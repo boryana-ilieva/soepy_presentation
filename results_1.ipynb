{
 "cells": [
  {
   "cell_type": "code",
   "execution_count": 1,
   "metadata": {},
   "outputs": [],
   "source": [
    "import pandas as pd\n",
    "import numpy as np\n",
    "import matplotlib.pyplot as plt"
   ]
  },
  {
   "cell_type": "code",
   "execution_count": 2,
   "metadata": {},
   "outputs": [],
   "source": [
    "pd.options.mode.chained_assignment = None"
   ]
  },
  {
   "cell_type": "markdown",
   "metadata": {},
   "source": [
    "SOEP Data\n",
    "-------------"
   ]
  },
  {
   "cell_type": "code",
   "execution_count": 3,
   "metadata": {},
   "outputs": [],
   "source": [
    "data_full = pd.read_stata('soepcore_prep.dta')"
   ]
  },
  {
   "cell_type": "code",
   "execution_count": 4,
   "metadata": {},
   "outputs": [],
   "source": [
    "def pre_process_soep_data(file_name):\n",
    "    \n",
    "    data_full = pd.read_stata(file_name)\n",
    "    \n",
    "    # Restrict sample to age 50\n",
    "    data_30periods = data_full[data_full[\"age\"] < 47]\n",
    "\n",
    "    # Restirct sample to west Germany\n",
    "    data = data_30periods[data_30periods[\"east\"] == 0]\n",
    "\n",
    "    # Drop observations with missing values in hdegree\n",
    "    data = data[data[\"hdegree\"].isna() == False]\n",
    "\n",
    "    # Generate period variable\n",
    "    def get_period(row):\n",
    "        return row[\"age\"] -17\n",
    "\n",
    "    data[\"Period\"] = data.apply(\n",
    "        lambda row: get_period(row), axis=1\n",
    "    )\n",
    "\n",
    "    # Determine the observed wage given period choice\n",
    "    def recode_educ_level(row):\n",
    "        if row[\"hdegree\"] == 'Primary/basic vocational':\n",
    "            return 0\n",
    "        elif row[\"hdegree\"] == 'Abi/intermediate voc.':\n",
    "            return 1\n",
    "        elif row[\"hdegree\"] == 'University':\n",
    "            return 2\n",
    "        else:\n",
    "            return np.nan\n",
    "\n",
    "    data[\"Educ Level\"] = data.apply(\n",
    "        lambda row: recode_educ_level(row), axis=1\n",
    "    )\n",
    "    \n",
    "    # Recode choice\n",
    "    # Determine the observed wage given period choice\n",
    "    def recode_choice(row):\n",
    "        if row[\"empchoice\"] == 'Full-Time':\n",
    "            return 2\n",
    "        elif row[\"empchoice\"] == 'Part-Time':\n",
    "            return 1\n",
    "        elif row[\"empchoice\"] == 'Non-Working':\n",
    "            return 0\n",
    "        else:\n",
    "            return np.nan\n",
    "\n",
    "    data[\"Choice\"] = data.apply(\n",
    "        lambda row: recode_choice(row), axis=1\n",
    "    )\n",
    "    \n",
    "    # Generate wage for Non-Employment choice\n",
    "    data[\"wage_nw_imp\"] = 6.00\n",
    "\n",
    "    # Determine the observed wage given period choice\n",
    "    def get_observed_wage(row):\n",
    "        if row[\"empchoice\"] == 'Full-Time':\n",
    "            return row[\"wage_ft\"]\n",
    "        elif row[\"empchoice\"] == 'Part-Time':\n",
    "            return row[\"wage_pt\"]\n",
    "        elif row[\"empchoice\"] == 'Non-Working':\n",
    "            return row[\"wage_nw_imp\"]\n",
    "        else:\n",
    "            return np.nan\n",
    "\n",
    "    data[\"Wage Observed\"] = data.apply(\n",
    "        lambda row: get_observed_wage(row), axis=1\n",
    "    )\n",
    "    \n",
    "    return data"
   ]
  },
  {
   "cell_type": "code",
   "execution_count": 5,
   "metadata": {},
   "outputs": [],
   "source": [
    "data = pre_process_soep_data('soepcore_prep.dta')"
   ]
  },
  {
   "cell_type": "code",
   "execution_count": 6,
   "metadata": {},
   "outputs": [
    {
     "data": {
      "text/html": [
       "<div>\n",
       "<style scoped>\n",
       "    .dataframe tbody tr th:only-of-type {\n",
       "        vertical-align: middle;\n",
       "    }\n",
       "\n",
       "    .dataframe tbody tr th {\n",
       "        vertical-align: top;\n",
       "    }\n",
       "\n",
       "    .dataframe thead th {\n",
       "        text-align: right;\n",
       "    }\n",
       "</style>\n",
       "<table border=\"1\" class=\"dataframe\">\n",
       "  <thead>\n",
       "    <tr style=\"text-align: right;\">\n",
       "      <th></th>\n",
       "      <th>pid</th>\n",
       "      <th>syear</th>\n",
       "      <th>educyrs</th>\n",
       "      <th>hdegree</th>\n",
       "      <th>age</th>\n",
       "      <th>empchoice</th>\n",
       "      <th>wage_ft</th>\n",
       "      <th>wage_pt</th>\n",
       "      <th>wage_nw</th>\n",
       "      <th>pgimpgro</th>\n",
       "      <th>east</th>\n",
       "      <th>exper_ft</th>\n",
       "      <th>exper_pt</th>\n",
       "      <th>exper_nw</th>\n",
       "      <th>Period</th>\n",
       "      <th>Educ Level</th>\n",
       "      <th>Choice</th>\n",
       "      <th>wage_nw_imp</th>\n",
       "      <th>Wage Observed</th>\n",
       "    </tr>\n",
       "  </thead>\n",
       "  <tbody>\n",
       "    <tr>\n",
       "      <th>0</th>\n",
       "      <td>302</td>\n",
       "      <td>1992</td>\n",
       "      <td>10.0</td>\n",
       "      <td>Primary/basic vocational</td>\n",
       "      <td>31</td>\n",
       "      <td>Non-Working</td>\n",
       "      <td>NaN</td>\n",
       "      <td>NaN</td>\n",
       "      <td>NaN</td>\n",
       "      <td>NaN</td>\n",
       "      <td>0</td>\n",
       "      <td>7.0</td>\n",
       "      <td>3.0</td>\n",
       "      <td>5.0</td>\n",
       "      <td>14</td>\n",
       "      <td>0</td>\n",
       "      <td>0</td>\n",
       "      <td>6.0</td>\n",
       "      <td>6.000000</td>\n",
       "    </tr>\n",
       "    <tr>\n",
       "      <th>1</th>\n",
       "      <td>302</td>\n",
       "      <td>1993</td>\n",
       "      <td>10.0</td>\n",
       "      <td>Primary/basic vocational</td>\n",
       "      <td>32</td>\n",
       "      <td>Non-Working</td>\n",
       "      <td>NaN</td>\n",
       "      <td>NaN</td>\n",
       "      <td>NaN</td>\n",
       "      <td>NaN</td>\n",
       "      <td>0</td>\n",
       "      <td>7.0</td>\n",
       "      <td>3.0</td>\n",
       "      <td>6.0</td>\n",
       "      <td>15</td>\n",
       "      <td>0</td>\n",
       "      <td>0</td>\n",
       "      <td>6.0</td>\n",
       "      <td>6.000000</td>\n",
       "    </tr>\n",
       "    <tr>\n",
       "      <th>2</th>\n",
       "      <td>602</td>\n",
       "      <td>1992</td>\n",
       "      <td>16.0</td>\n",
       "      <td>University</td>\n",
       "      <td>34</td>\n",
       "      <td>Part-Time</td>\n",
       "      <td>NaN</td>\n",
       "      <td>24.283804</td>\n",
       "      <td>NaN</td>\n",
       "      <td>[0] Nicht imputiert</td>\n",
       "      <td>0</td>\n",
       "      <td>6.0</td>\n",
       "      <td>3.0</td>\n",
       "      <td>3.0</td>\n",
       "      <td>17</td>\n",
       "      <td>2</td>\n",
       "      <td>1</td>\n",
       "      <td>6.0</td>\n",
       "      <td>24.283804</td>\n",
       "    </tr>\n",
       "    <tr>\n",
       "      <th>3</th>\n",
       "      <td>602</td>\n",
       "      <td>1993</td>\n",
       "      <td>16.0</td>\n",
       "      <td>University</td>\n",
       "      <td>35</td>\n",
       "      <td>Part-Time</td>\n",
       "      <td>NaN</td>\n",
       "      <td>25.427456</td>\n",
       "      <td>NaN</td>\n",
       "      <td>[0] Nicht imputiert</td>\n",
       "      <td>0</td>\n",
       "      <td>6.0</td>\n",
       "      <td>4.0</td>\n",
       "      <td>3.0</td>\n",
       "      <td>18</td>\n",
       "      <td>2</td>\n",
       "      <td>1</td>\n",
       "      <td>6.0</td>\n",
       "      <td>25.427456</td>\n",
       "    </tr>\n",
       "    <tr>\n",
       "      <th>4</th>\n",
       "      <td>602</td>\n",
       "      <td>1994</td>\n",
       "      <td>16.0</td>\n",
       "      <td>University</td>\n",
       "      <td>36</td>\n",
       "      <td>Part-Time</td>\n",
       "      <td>NaN</td>\n",
       "      <td>25.201141</td>\n",
       "      <td>NaN</td>\n",
       "      <td>[0] Nicht imputiert</td>\n",
       "      <td>0</td>\n",
       "      <td>6.0</td>\n",
       "      <td>5.0</td>\n",
       "      <td>3.0</td>\n",
       "      <td>19</td>\n",
       "      <td>2</td>\n",
       "      <td>1</td>\n",
       "      <td>6.0</td>\n",
       "      <td>25.201141</td>\n",
       "    </tr>\n",
       "    <tr>\n",
       "      <th>5</th>\n",
       "      <td>602</td>\n",
       "      <td>1995</td>\n",
       "      <td>16.0</td>\n",
       "      <td>University</td>\n",
       "      <td>37</td>\n",
       "      <td>Part-Time</td>\n",
       "      <td>NaN</td>\n",
       "      <td>25.162991</td>\n",
       "      <td>NaN</td>\n",
       "      <td>[0] Nicht imputiert</td>\n",
       "      <td>0</td>\n",
       "      <td>6.0</td>\n",
       "      <td>6.0</td>\n",
       "      <td>3.0</td>\n",
       "      <td>20</td>\n",
       "      <td>2</td>\n",
       "      <td>1</td>\n",
       "      <td>6.0</td>\n",
       "      <td>25.162991</td>\n",
       "    </tr>\n",
       "    <tr>\n",
       "      <th>6</th>\n",
       "      <td>602</td>\n",
       "      <td>1996</td>\n",
       "      <td>16.0</td>\n",
       "      <td>University</td>\n",
       "      <td>38</td>\n",
       "      <td>Non-Working</td>\n",
       "      <td>NaN</td>\n",
       "      <td>NaN</td>\n",
       "      <td>NaN</td>\n",
       "      <td>NaN</td>\n",
       "      <td>0</td>\n",
       "      <td>6.0</td>\n",
       "      <td>7.0</td>\n",
       "      <td>3.0</td>\n",
       "      <td>21</td>\n",
       "      <td>2</td>\n",
       "      <td>0</td>\n",
       "      <td>6.0</td>\n",
       "      <td>6.000000</td>\n",
       "    </tr>\n",
       "    <tr>\n",
       "      <th>7</th>\n",
       "      <td>602</td>\n",
       "      <td>1997</td>\n",
       "      <td>16.0</td>\n",
       "      <td>University</td>\n",
       "      <td>39</td>\n",
       "      <td>Non-Working</td>\n",
       "      <td>NaN</td>\n",
       "      <td>NaN</td>\n",
       "      <td>NaN</td>\n",
       "      <td>NaN</td>\n",
       "      <td>0</td>\n",
       "      <td>6.0</td>\n",
       "      <td>7.0</td>\n",
       "      <td>4.0</td>\n",
       "      <td>22</td>\n",
       "      <td>2</td>\n",
       "      <td>0</td>\n",
       "      <td>6.0</td>\n",
       "      <td>6.000000</td>\n",
       "    </tr>\n",
       "    <tr>\n",
       "      <th>8</th>\n",
       "      <td>602</td>\n",
       "      <td>1998</td>\n",
       "      <td>16.0</td>\n",
       "      <td>University</td>\n",
       "      <td>40</td>\n",
       "      <td>Non-Working</td>\n",
       "      <td>NaN</td>\n",
       "      <td>NaN</td>\n",
       "      <td>NaN</td>\n",
       "      <td>NaN</td>\n",
       "      <td>0</td>\n",
       "      <td>6.0</td>\n",
       "      <td>7.0</td>\n",
       "      <td>5.0</td>\n",
       "      <td>23</td>\n",
       "      <td>2</td>\n",
       "      <td>0</td>\n",
       "      <td>6.0</td>\n",
       "      <td>6.000000</td>\n",
       "    </tr>\n",
       "    <tr>\n",
       "      <th>9</th>\n",
       "      <td>602</td>\n",
       "      <td>2000</td>\n",
       "      <td>16.0</td>\n",
       "      <td>University</td>\n",
       "      <td>42</td>\n",
       "      <td>Non-Working</td>\n",
       "      <td>NaN</td>\n",
       "      <td>NaN</td>\n",
       "      <td>NaN</td>\n",
       "      <td>NaN</td>\n",
       "      <td>0</td>\n",
       "      <td>6.0</td>\n",
       "      <td>8.0</td>\n",
       "      <td>6.0</td>\n",
       "      <td>25</td>\n",
       "      <td>2</td>\n",
       "      <td>0</td>\n",
       "      <td>6.0</td>\n",
       "      <td>6.000000</td>\n",
       "    </tr>\n",
       "    <tr>\n",
       "      <th>10</th>\n",
       "      <td>602</td>\n",
       "      <td>2001</td>\n",
       "      <td>16.0</td>\n",
       "      <td>University</td>\n",
       "      <td>43</td>\n",
       "      <td>Non-Working</td>\n",
       "      <td>NaN</td>\n",
       "      <td>NaN</td>\n",
       "      <td>NaN</td>\n",
       "      <td>NaN</td>\n",
       "      <td>0</td>\n",
       "      <td>6.0</td>\n",
       "      <td>8.0</td>\n",
       "      <td>7.0</td>\n",
       "      <td>26</td>\n",
       "      <td>2</td>\n",
       "      <td>0</td>\n",
       "      <td>6.0</td>\n",
       "      <td>6.000000</td>\n",
       "    </tr>\n",
       "    <tr>\n",
       "      <th>11</th>\n",
       "      <td>602</td>\n",
       "      <td>2002</td>\n",
       "      <td>16.0</td>\n",
       "      <td>University</td>\n",
       "      <td>44</td>\n",
       "      <td>Non-Working</td>\n",
       "      <td>NaN</td>\n",
       "      <td>NaN</td>\n",
       "      <td>NaN</td>\n",
       "      <td>NaN</td>\n",
       "      <td>0</td>\n",
       "      <td>6.0</td>\n",
       "      <td>8.0</td>\n",
       "      <td>8.0</td>\n",
       "      <td>27</td>\n",
       "      <td>2</td>\n",
       "      <td>0</td>\n",
       "      <td>6.0</td>\n",
       "      <td>6.000000</td>\n",
       "    </tr>\n",
       "    <tr>\n",
       "      <th>12</th>\n",
       "      <td>602</td>\n",
       "      <td>2003</td>\n",
       "      <td>16.0</td>\n",
       "      <td>University</td>\n",
       "      <td>45</td>\n",
       "      <td>Non-Working</td>\n",
       "      <td>NaN</td>\n",
       "      <td>NaN</td>\n",
       "      <td>NaN</td>\n",
       "      <td>NaN</td>\n",
       "      <td>0</td>\n",
       "      <td>6.0</td>\n",
       "      <td>8.0</td>\n",
       "      <td>9.0</td>\n",
       "      <td>28</td>\n",
       "      <td>2</td>\n",
       "      <td>0</td>\n",
       "      <td>6.0</td>\n",
       "      <td>6.000000</td>\n",
       "    </tr>\n",
       "    <tr>\n",
       "      <th>13</th>\n",
       "      <td>602</td>\n",
       "      <td>2004</td>\n",
       "      <td>16.0</td>\n",
       "      <td>University</td>\n",
       "      <td>46</td>\n",
       "      <td>Non-Working</td>\n",
       "      <td>NaN</td>\n",
       "      <td>NaN</td>\n",
       "      <td>NaN</td>\n",
       "      <td>NaN</td>\n",
       "      <td>0</td>\n",
       "      <td>7.0</td>\n",
       "      <td>8.0</td>\n",
       "      <td>9.0</td>\n",
       "      <td>29</td>\n",
       "      <td>2</td>\n",
       "      <td>0</td>\n",
       "      <td>6.0</td>\n",
       "      <td>6.000000</td>\n",
       "    </tr>\n",
       "    <tr>\n",
       "      <th>14</th>\n",
       "      <td>901</td>\n",
       "      <td>1992</td>\n",
       "      <td>10.0</td>\n",
       "      <td>Primary/basic vocational</td>\n",
       "      <td>41</td>\n",
       "      <td>Full-Time</td>\n",
       "      <td>14.620852</td>\n",
       "      <td>NaN</td>\n",
       "      <td>NaN</td>\n",
       "      <td>[0] Nicht imputiert</td>\n",
       "      <td>0</td>\n",
       "      <td>22.0</td>\n",
       "      <td>0.0</td>\n",
       "      <td>3.0</td>\n",
       "      <td>24</td>\n",
       "      <td>0</td>\n",
       "      <td>2</td>\n",
       "      <td>6.0</td>\n",
       "      <td>14.620852</td>\n",
       "    </tr>\n",
       "    <tr>\n",
       "      <th>15</th>\n",
       "      <td>901</td>\n",
       "      <td>1993</td>\n",
       "      <td>10.0</td>\n",
       "      <td>Primary/basic vocational</td>\n",
       "      <td>42</td>\n",
       "      <td>Full-Time</td>\n",
       "      <td>15.400759</td>\n",
       "      <td>NaN</td>\n",
       "      <td>NaN</td>\n",
       "      <td>[0] Nicht imputiert</td>\n",
       "      <td>0</td>\n",
       "      <td>23.0</td>\n",
       "      <td>0.0</td>\n",
       "      <td>3.0</td>\n",
       "      <td>25</td>\n",
       "      <td>0</td>\n",
       "      <td>2</td>\n",
       "      <td>6.0</td>\n",
       "      <td>15.400759</td>\n",
       "    </tr>\n",
       "    <tr>\n",
       "      <th>16</th>\n",
       "      <td>901</td>\n",
       "      <td>1994</td>\n",
       "      <td>10.0</td>\n",
       "      <td>Primary/basic vocational</td>\n",
       "      <td>43</td>\n",
       "      <td>Full-Time</td>\n",
       "      <td>14.165038</td>\n",
       "      <td>NaN</td>\n",
       "      <td>NaN</td>\n",
       "      <td>[0] Nicht imputiert</td>\n",
       "      <td>0</td>\n",
       "      <td>24.0</td>\n",
       "      <td>0.0</td>\n",
       "      <td>3.0</td>\n",
       "      <td>26</td>\n",
       "      <td>0</td>\n",
       "      <td>2</td>\n",
       "      <td>6.0</td>\n",
       "      <td>14.165038</td>\n",
       "    </tr>\n",
       "    <tr>\n",
       "      <th>17</th>\n",
       "      <td>901</td>\n",
       "      <td>1995</td>\n",
       "      <td>10.0</td>\n",
       "      <td>Primary/basic vocational</td>\n",
       "      <td>44</td>\n",
       "      <td>Full-Time</td>\n",
       "      <td>14.830498</td>\n",
       "      <td>NaN</td>\n",
       "      <td>NaN</td>\n",
       "      <td>[0] Nicht imputiert</td>\n",
       "      <td>0</td>\n",
       "      <td>25.0</td>\n",
       "      <td>0.0</td>\n",
       "      <td>3.0</td>\n",
       "      <td>27</td>\n",
       "      <td>0</td>\n",
       "      <td>2</td>\n",
       "      <td>6.0</td>\n",
       "      <td>14.830498</td>\n",
       "    </tr>\n",
       "    <tr>\n",
       "      <th>18</th>\n",
       "      <td>901</td>\n",
       "      <td>1996</td>\n",
       "      <td>10.0</td>\n",
       "      <td>Primary/basic vocational</td>\n",
       "      <td>45</td>\n",
       "      <td>Full-Time</td>\n",
       "      <td>15.316042</td>\n",
       "      <td>NaN</td>\n",
       "      <td>NaN</td>\n",
       "      <td>[0] Nicht imputiert</td>\n",
       "      <td>0</td>\n",
       "      <td>26.0</td>\n",
       "      <td>0.0</td>\n",
       "      <td>3.0</td>\n",
       "      <td>28</td>\n",
       "      <td>0</td>\n",
       "      <td>2</td>\n",
       "      <td>6.0</td>\n",
       "      <td>15.316042</td>\n",
       "    </tr>\n",
       "    <tr>\n",
       "      <th>19</th>\n",
       "      <td>901</td>\n",
       "      <td>1997</td>\n",
       "      <td>10.0</td>\n",
       "      <td>Primary/basic vocational</td>\n",
       "      <td>46</td>\n",
       "      <td>Part-Time</td>\n",
       "      <td>NaN</td>\n",
       "      <td>13.837792</td>\n",
       "      <td>NaN</td>\n",
       "      <td>[0] Nicht imputiert</td>\n",
       "      <td>0</td>\n",
       "      <td>26.0</td>\n",
       "      <td>1.0</td>\n",
       "      <td>3.0</td>\n",
       "      <td>29</td>\n",
       "      <td>0</td>\n",
       "      <td>1</td>\n",
       "      <td>6.0</td>\n",
       "      <td>13.837792</td>\n",
       "    </tr>\n",
       "  </tbody>\n",
       "</table>\n",
       "</div>"
      ],
      "text/plain": [
       "    pid  syear  educyrs                   hdegree  age    empchoice  \\\n",
       "0   302   1992     10.0  Primary/basic vocational   31  Non-Working   \n",
       "1   302   1993     10.0  Primary/basic vocational   32  Non-Working   \n",
       "2   602   1992     16.0                University   34    Part-Time   \n",
       "3   602   1993     16.0                University   35    Part-Time   \n",
       "4   602   1994     16.0                University   36    Part-Time   \n",
       "5   602   1995     16.0                University   37    Part-Time   \n",
       "6   602   1996     16.0                University   38  Non-Working   \n",
       "7   602   1997     16.0                University   39  Non-Working   \n",
       "8   602   1998     16.0                University   40  Non-Working   \n",
       "9   602   2000     16.0                University   42  Non-Working   \n",
       "10  602   2001     16.0                University   43  Non-Working   \n",
       "11  602   2002     16.0                University   44  Non-Working   \n",
       "12  602   2003     16.0                University   45  Non-Working   \n",
       "13  602   2004     16.0                University   46  Non-Working   \n",
       "14  901   1992     10.0  Primary/basic vocational   41    Full-Time   \n",
       "15  901   1993     10.0  Primary/basic vocational   42    Full-Time   \n",
       "16  901   1994     10.0  Primary/basic vocational   43    Full-Time   \n",
       "17  901   1995     10.0  Primary/basic vocational   44    Full-Time   \n",
       "18  901   1996     10.0  Primary/basic vocational   45    Full-Time   \n",
       "19  901   1997     10.0  Primary/basic vocational   46    Part-Time   \n",
       "\n",
       "      wage_ft    wage_pt  wage_nw             pgimpgro  east  exper_ft  \\\n",
       "0         NaN        NaN      NaN                  NaN     0       7.0   \n",
       "1         NaN        NaN      NaN                  NaN     0       7.0   \n",
       "2         NaN  24.283804      NaN  [0] Nicht imputiert     0       6.0   \n",
       "3         NaN  25.427456      NaN  [0] Nicht imputiert     0       6.0   \n",
       "4         NaN  25.201141      NaN  [0] Nicht imputiert     0       6.0   \n",
       "5         NaN  25.162991      NaN  [0] Nicht imputiert     0       6.0   \n",
       "6         NaN        NaN      NaN                  NaN     0       6.0   \n",
       "7         NaN        NaN      NaN                  NaN     0       6.0   \n",
       "8         NaN        NaN      NaN                  NaN     0       6.0   \n",
       "9         NaN        NaN      NaN                  NaN     0       6.0   \n",
       "10        NaN        NaN      NaN                  NaN     0       6.0   \n",
       "11        NaN        NaN      NaN                  NaN     0       6.0   \n",
       "12        NaN        NaN      NaN                  NaN     0       6.0   \n",
       "13        NaN        NaN      NaN                  NaN     0       7.0   \n",
       "14  14.620852        NaN      NaN  [0] Nicht imputiert     0      22.0   \n",
       "15  15.400759        NaN      NaN  [0] Nicht imputiert     0      23.0   \n",
       "16  14.165038        NaN      NaN  [0] Nicht imputiert     0      24.0   \n",
       "17  14.830498        NaN      NaN  [0] Nicht imputiert     0      25.0   \n",
       "18  15.316042        NaN      NaN  [0] Nicht imputiert     0      26.0   \n",
       "19        NaN  13.837792      NaN  [0] Nicht imputiert     0      26.0   \n",
       "\n",
       "    exper_pt  exper_nw  Period  Educ Level  Choice  wage_nw_imp  Wage Observed  \n",
       "0        3.0       5.0      14           0       0          6.0       6.000000  \n",
       "1        3.0       6.0      15           0       0          6.0       6.000000  \n",
       "2        3.0       3.0      17           2       1          6.0      24.283804  \n",
       "3        4.0       3.0      18           2       1          6.0      25.427456  \n",
       "4        5.0       3.0      19           2       1          6.0      25.201141  \n",
       "5        6.0       3.0      20           2       1          6.0      25.162991  \n",
       "6        7.0       3.0      21           2       0          6.0       6.000000  \n",
       "7        7.0       4.0      22           2       0          6.0       6.000000  \n",
       "8        7.0       5.0      23           2       0          6.0       6.000000  \n",
       "9        8.0       6.0      25           2       0          6.0       6.000000  \n",
       "10       8.0       7.0      26           2       0          6.0       6.000000  \n",
       "11       8.0       8.0      27           2       0          6.0       6.000000  \n",
       "12       8.0       9.0      28           2       0          6.0       6.000000  \n",
       "13       8.0       9.0      29           2       0          6.0       6.000000  \n",
       "14       0.0       3.0      24           0       2          6.0      14.620852  \n",
       "15       0.0       3.0      25           0       2          6.0      15.400759  \n",
       "16       0.0       3.0      26           0       2          6.0      14.165038  \n",
       "17       0.0       3.0      27           0       2          6.0      14.830498  \n",
       "18       0.0       3.0      28           0       2          6.0      15.316042  \n",
       "19       1.0       3.0      29           0       1          6.0      13.837792  "
      ]
     },
     "execution_count": 6,
     "metadata": {},
     "output_type": "execute_result"
    }
   ],
   "source": [
    "data.head(20)"
   ]
  },
  {
   "cell_type": "code",
   "execution_count": 7,
   "metadata": {},
   "outputs": [
    {
     "name": "stdout",
     "output_type": "stream",
     "text": [
      "15874 25502\n"
     ]
    }
   ],
   "source": [
    "# Number of individuals\n",
    "print(data[\"pid\"].nunique(), data_full[\"pid\"].nunique())"
   ]
  },
  {
   "cell_type": "code",
   "execution_count": 8,
   "metadata": {},
   "outputs": [
    {
     "name": "stdout",
     "output_type": "stream",
     "text": [
      "59096 115609\n"
     ]
    }
   ],
   "source": [
    "# Number of data points\n",
    "print(data[\"pid\"].size, data_full[\"pid\"].size)"
   ]
  },
  {
   "cell_type": "markdown",
   "metadata": {},
   "source": [
    "Simulated Dataset\n",
    "----------------------"
   ]
  },
  {
   "cell_type": "code",
   "execution_count": 9,
   "metadata": {},
   "outputs": [],
   "source": [
    "import soepy"
   ]
  },
  {
   "cell_type": "code",
   "execution_count": 10,
   "metadata": {},
   "outputs": [],
   "source": [
    "# Simulate dataset based on estimated parameter vector\n",
    "data_sim = soepy.simulate('results_2_init_file_1000.yml')"
   ]
  },
  {
   "cell_type": "code",
   "execution_count": 11,
   "metadata": {},
   "outputs": [],
   "source": [
    "#Determine the observed wage given period choice\n",
    "def get_observed_wage (row):\n",
    "    if row['Choice'] == 2:\n",
    "        return row['Period Wage F']\n",
    "    elif row['Choice'] ==1:\n",
    "        return row['Period Wage P']\n",
    "    elif row['Choice'] ==0:\n",
    "        return row['Period Wage N']\n",
    "    else:\n",
    "        return np.nan\n",
    "\n",
    "# Add to data frame\n",
    "data_sim['Wage Observed'] = data_sim.apply(\n",
    "    lambda row: get_observed_wage (row),axis=1\n",
    ")\n",
    "\n",
    "# Determine the education level\n",
    "def get_educ_level(row):\n",
    "    if row[\"Years of Education\"] >= 10 and row[\"Years of Education\"] < 12:\n",
    "        return 0\n",
    "    elif row[\"Years of Education\"] >= 12 and row[\"Years of Education\"] < 16:\n",
    "        return 1\n",
    "    elif row[\"Years of Education\"] >= 16:\n",
    "        return 2\n",
    "    else:\n",
    "        return np.nan\n",
    "\n",
    "data_sim[\"Educ Level\"] = data_sim.apply(\n",
    "    lambda row: get_educ_level(row), axis=1\n",
    ")"
   ]
  },
  {
   "cell_type": "code",
   "execution_count": 12,
   "metadata": {},
   "outputs": [
    {
     "data": {
      "text/html": [
       "<div>\n",
       "<style scoped>\n",
       "    .dataframe tbody tr th:only-of-type {\n",
       "        vertical-align: middle;\n",
       "    }\n",
       "\n",
       "    .dataframe tbody tr th {\n",
       "        vertical-align: top;\n",
       "    }\n",
       "\n",
       "    .dataframe thead th {\n",
       "        text-align: right;\n",
       "    }\n",
       "</style>\n",
       "<table border=\"1\" class=\"dataframe\">\n",
       "  <thead>\n",
       "    <tr style=\"text-align: right;\">\n",
       "      <th></th>\n",
       "      <th>Identifier</th>\n",
       "      <th>Period</th>\n",
       "      <th>Years of Education</th>\n",
       "      <th>Choice</th>\n",
       "      <th>Systematic Wage</th>\n",
       "      <th>Period Wage N</th>\n",
       "      <th>Period Wage P</th>\n",
       "      <th>Period Wage F</th>\n",
       "      <th>Consumption Utility N</th>\n",
       "      <th>Consumption Utility P</th>\n",
       "      <th>Consumption Utility F</th>\n",
       "      <th>Flow Utility N</th>\n",
       "      <th>Flow Utility P</th>\n",
       "      <th>Flow Utility F</th>\n",
       "      <th>Wage Observed</th>\n",
       "      <th>Educ Level</th>\n",
       "    </tr>\n",
       "  </thead>\n",
       "  <tbody>\n",
       "    <tr>\n",
       "      <th>0</th>\n",
       "      <td>0</td>\n",
       "      <td>0</td>\n",
       "      <td>10</td>\n",
       "      <td>2.0</td>\n",
       "      <td>6.855149</td>\n",
       "      <td>6.0</td>\n",
       "      <td>8.188784</td>\n",
       "      <td>15.014135</td>\n",
       "      <td>-0.654707</td>\n",
       "      <td>-0.109008</td>\n",
       "      <td>-0.051085</td>\n",
       "      <td>-0.654707</td>\n",
       "      <td>-0.728813</td>\n",
       "      <td>-0.586686</td>\n",
       "      <td>15.014135</td>\n",
       "      <td>0</td>\n",
       "    </tr>\n",
       "    <tr>\n",
       "      <th>1</th>\n",
       "      <td>0</td>\n",
       "      <td>1</td>\n",
       "      <td>10</td>\n",
       "      <td>0.0</td>\n",
       "      <td>7.423946</td>\n",
       "      <td>6.0</td>\n",
       "      <td>8.725563</td>\n",
       "      <td>5.065398</td>\n",
       "      <td>-0.654707</td>\n",
       "      <td>-0.105200</td>\n",
       "      <td>-0.093875</td>\n",
       "      <td>-0.654707</td>\n",
       "      <td>-0.703355</td>\n",
       "      <td>-1.078108</td>\n",
       "      <td>6.000000</td>\n",
       "      <td>0</td>\n",
       "    </tr>\n",
       "    <tr>\n",
       "      <th>2</th>\n",
       "      <td>0</td>\n",
       "      <td>2</td>\n",
       "      <td>10</td>\n",
       "      <td>0.0</td>\n",
       "      <td>7.423946</td>\n",
       "      <td>6.0</td>\n",
       "      <td>5.689242</td>\n",
       "      <td>8.746799</td>\n",
       "      <td>-0.654707</td>\n",
       "      <td>-0.133668</td>\n",
       "      <td>-0.069135</td>\n",
       "      <td>-0.654707</td>\n",
       "      <td>-0.893693</td>\n",
       "      <td>-0.793982</td>\n",
       "      <td>6.000000</td>\n",
       "      <td>0</td>\n",
       "    </tr>\n",
       "    <tr>\n",
       "      <th>3</th>\n",
       "      <td>0</td>\n",
       "      <td>3</td>\n",
       "      <td>10</td>\n",
       "      <td>0.0</td>\n",
       "      <td>7.423946</td>\n",
       "      <td>6.0</td>\n",
       "      <td>8.349554</td>\n",
       "      <td>4.796164</td>\n",
       "      <td>-0.654707</td>\n",
       "      <td>-0.107827</td>\n",
       "      <td>-0.096790</td>\n",
       "      <td>-0.654707</td>\n",
       "      <td>-0.720921</td>\n",
       "      <td>-1.111592</td>\n",
       "      <td>6.000000</td>\n",
       "      <td>0</td>\n",
       "    </tr>\n",
       "    <tr>\n",
       "      <th>4</th>\n",
       "      <td>0</td>\n",
       "      <td>4</td>\n",
       "      <td>10</td>\n",
       "      <td>0.0</td>\n",
       "      <td>7.423946</td>\n",
       "      <td>6.0</td>\n",
       "      <td>7.107834</td>\n",
       "      <td>4.972434</td>\n",
       "      <td>-0.654707</td>\n",
       "      <td>-0.118001</td>\n",
       "      <td>-0.094854</td>\n",
       "      <td>-0.654707</td>\n",
       "      <td>-0.788944</td>\n",
       "      <td>-1.089350</td>\n",
       "      <td>6.000000</td>\n",
       "      <td>0</td>\n",
       "    </tr>\n",
       "    <tr>\n",
       "      <th>5</th>\n",
       "      <td>0</td>\n",
       "      <td>5</td>\n",
       "      <td>10</td>\n",
       "      <td>2.0</td>\n",
       "      <td>7.423946</td>\n",
       "      <td>6.0</td>\n",
       "      <td>8.181864</td>\n",
       "      <td>16.784272</td>\n",
       "      <td>-0.654707</td>\n",
       "      <td>-0.109059</td>\n",
       "      <td>-0.047994</td>\n",
       "      <td>-0.654707</td>\n",
       "      <td>-0.729158</td>\n",
       "      <td>-0.551189</td>\n",
       "      <td>16.784272</td>\n",
       "      <td>0</td>\n",
       "    </tr>\n",
       "    <tr>\n",
       "      <th>6</th>\n",
       "      <td>0</td>\n",
       "      <td>6</td>\n",
       "      <td>10</td>\n",
       "      <td>1.0</td>\n",
       "      <td>7.787468</td>\n",
       "      <td>6.0</td>\n",
       "      <td>11.461648</td>\n",
       "      <td>11.878650</td>\n",
       "      <td>-0.654707</td>\n",
       "      <td>-0.090299</td>\n",
       "      <td>-0.058246</td>\n",
       "      <td>-0.654707</td>\n",
       "      <td>-0.603727</td>\n",
       "      <td>-0.668923</td>\n",
       "      <td>11.461648</td>\n",
       "      <td>0</td>\n",
       "    </tr>\n",
       "    <tr>\n",
       "      <th>7</th>\n",
       "      <td>0</td>\n",
       "      <td>7</td>\n",
       "      <td>10</td>\n",
       "      <td>0.0</td>\n",
       "      <td>7.841832</td>\n",
       "      <td>6.0</td>\n",
       "      <td>7.258882</td>\n",
       "      <td>8.760159</td>\n",
       "      <td>-0.654707</td>\n",
       "      <td>-0.116620</td>\n",
       "      <td>-0.069076</td>\n",
       "      <td>-0.654707</td>\n",
       "      <td>-0.779708</td>\n",
       "      <td>-0.793303</td>\n",
       "      <td>6.000000</td>\n",
       "      <td>0</td>\n",
       "    </tr>\n",
       "    <tr>\n",
       "      <th>8</th>\n",
       "      <td>0</td>\n",
       "      <td>8</td>\n",
       "      <td>10</td>\n",
       "      <td>0.0</td>\n",
       "      <td>7.841832</td>\n",
       "      <td>6.0</td>\n",
       "      <td>7.081287</td>\n",
       "      <td>5.600789</td>\n",
       "      <td>-0.654707</td>\n",
       "      <td>-0.118249</td>\n",
       "      <td>-0.088739</td>\n",
       "      <td>-0.654707</td>\n",
       "      <td>-0.790599</td>\n",
       "      <td>-1.019123</td>\n",
       "      <td>6.000000</td>\n",
       "      <td>0</td>\n",
       "    </tr>\n",
       "    <tr>\n",
       "      <th>9</th>\n",
       "      <td>0</td>\n",
       "      <td>9</td>\n",
       "      <td>10</td>\n",
       "      <td>0.0</td>\n",
       "      <td>7.841832</td>\n",
       "      <td>6.0</td>\n",
       "      <td>7.440079</td>\n",
       "      <td>5.851004</td>\n",
       "      <td>-0.654707</td>\n",
       "      <td>-0.115021</td>\n",
       "      <td>-0.086593</td>\n",
       "      <td>-0.654707</td>\n",
       "      <td>-0.769016</td>\n",
       "      <td>-0.994482</td>\n",
       "      <td>6.000000</td>\n",
       "      <td>0</td>\n",
       "    </tr>\n",
       "    <tr>\n",
       "      <th>10</th>\n",
       "      <td>0</td>\n",
       "      <td>10</td>\n",
       "      <td>10</td>\n",
       "      <td>0.0</td>\n",
       "      <td>7.841832</td>\n",
       "      <td>6.0</td>\n",
       "      <td>5.127194</td>\n",
       "      <td>6.310813</td>\n",
       "      <td>-0.654707</td>\n",
       "      <td>-0.141686</td>\n",
       "      <td>-0.083001</td>\n",
       "      <td>-0.654707</td>\n",
       "      <td>-0.947297</td>\n",
       "      <td>-0.953231</td>\n",
       "      <td>6.000000</td>\n",
       "      <td>0</td>\n",
       "    </tr>\n",
       "    <tr>\n",
       "      <th>11</th>\n",
       "      <td>0</td>\n",
       "      <td>11</td>\n",
       "      <td>10</td>\n",
       "      <td>1.0</td>\n",
       "      <td>7.841832</td>\n",
       "      <td>6.0</td>\n",
       "      <td>9.869309</td>\n",
       "      <td>8.760301</td>\n",
       "      <td>-0.654707</td>\n",
       "      <td>-0.098188</td>\n",
       "      <td>-0.069075</td>\n",
       "      <td>-0.654707</td>\n",
       "      <td>-0.656475</td>\n",
       "      <td>-0.793296</td>\n",
       "      <td>9.869309</td>\n",
       "      <td>0</td>\n",
       "    </tr>\n",
       "    <tr>\n",
       "      <th>12</th>\n",
       "      <td>0</td>\n",
       "      <td>12</td>\n",
       "      <td>10</td>\n",
       "      <td>0.0</td>\n",
       "      <td>7.893611</td>\n",
       "      <td>6.0</td>\n",
       "      <td>8.206376</td>\n",
       "      <td>9.966048</td>\n",
       "      <td>-0.654707</td>\n",
       "      <td>-0.108877</td>\n",
       "      <td>-0.064263</td>\n",
       "      <td>-0.654707</td>\n",
       "      <td>-0.727938</td>\n",
       "      <td>-0.738028</td>\n",
       "      <td>6.000000</td>\n",
       "      <td>0</td>\n",
       "    </tr>\n",
       "    <tr>\n",
       "      <th>13</th>\n",
       "      <td>0</td>\n",
       "      <td>13</td>\n",
       "      <td>10</td>\n",
       "      <td>0.0</td>\n",
       "      <td>7.893611</td>\n",
       "      <td>6.0</td>\n",
       "      <td>6.576798</td>\n",
       "      <td>4.780500</td>\n",
       "      <td>-0.654707</td>\n",
       "      <td>-0.123246</td>\n",
       "      <td>-0.096968</td>\n",
       "      <td>-0.654707</td>\n",
       "      <td>-0.824007</td>\n",
       "      <td>-1.113630</td>\n",
       "      <td>6.000000</td>\n",
       "      <td>0</td>\n",
       "    </tr>\n",
       "    <tr>\n",
       "      <th>14</th>\n",
       "      <td>0</td>\n",
       "      <td>14</td>\n",
       "      <td>10</td>\n",
       "      <td>0.0</td>\n",
       "      <td>7.893611</td>\n",
       "      <td>6.0</td>\n",
       "      <td>5.971733</td>\n",
       "      <td>5.353538</td>\n",
       "      <td>-0.654707</td>\n",
       "      <td>-0.130090</td>\n",
       "      <td>-0.091011</td>\n",
       "      <td>-0.654707</td>\n",
       "      <td>-0.869766</td>\n",
       "      <td>-1.045219</td>\n",
       "      <td>6.000000</td>\n",
       "      <td>0</td>\n",
       "    </tr>\n",
       "    <tr>\n",
       "      <th>15</th>\n",
       "      <td>0</td>\n",
       "      <td>15</td>\n",
       "      <td>10</td>\n",
       "      <td>0.0</td>\n",
       "      <td>7.893611</td>\n",
       "      <td>6.0</td>\n",
       "      <td>9.603423</td>\n",
       "      <td>4.040009</td>\n",
       "      <td>-0.654707</td>\n",
       "      <td>-0.099701</td>\n",
       "      <td>-0.106551</td>\n",
       "      <td>-0.654707</td>\n",
       "      <td>-0.666592</td>\n",
       "      <td>-1.223691</td>\n",
       "      <td>6.000000</td>\n",
       "      <td>0</td>\n",
       "    </tr>\n",
       "    <tr>\n",
       "      <th>16</th>\n",
       "      <td>0</td>\n",
       "      <td>16</td>\n",
       "      <td>10</td>\n",
       "      <td>1.0</td>\n",
       "      <td>7.893611</td>\n",
       "      <td>6.0</td>\n",
       "      <td>11.710488</td>\n",
       "      <td>10.760813</td>\n",
       "      <td>-0.654707</td>\n",
       "      <td>-0.089219</td>\n",
       "      <td>-0.061560</td>\n",
       "      <td>-0.654707</td>\n",
       "      <td>-0.596509</td>\n",
       "      <td>-0.706989</td>\n",
       "      <td>11.710488</td>\n",
       "      <td>0</td>\n",
       "    </tr>\n",
       "    <tr>\n",
       "      <th>17</th>\n",
       "      <td>0</td>\n",
       "      <td>17</td>\n",
       "      <td>10</td>\n",
       "      <td>1.0</td>\n",
       "      <td>7.943055</td>\n",
       "      <td>6.0</td>\n",
       "      <td>10.004341</td>\n",
       "      <td>6.078288</td>\n",
       "      <td>-0.654707</td>\n",
       "      <td>-0.097444</td>\n",
       "      <td>-0.084765</td>\n",
       "      <td>-0.654707</td>\n",
       "      <td>-0.651498</td>\n",
       "      <td>-0.973483</td>\n",
       "      <td>10.004341</td>\n",
       "      <td>0</td>\n",
       "    </tr>\n",
       "    <tr>\n",
       "      <th>18</th>\n",
       "      <td>0</td>\n",
       "      <td>18</td>\n",
       "      <td>10</td>\n",
       "      <td>0.0</td>\n",
       "      <td>7.990379</td>\n",
       "      <td>6.0</td>\n",
       "      <td>8.919660</td>\n",
       "      <td>8.831857</td>\n",
       "      <td>-0.654707</td>\n",
       "      <td>-0.103912</td>\n",
       "      <td>-0.068761</td>\n",
       "      <td>-0.654707</td>\n",
       "      <td>-0.694742</td>\n",
       "      <td>-0.789690</td>\n",
       "      <td>6.000000</td>\n",
       "      <td>0</td>\n",
       "    </tr>\n",
       "    <tr>\n",
       "      <th>19</th>\n",
       "      <td>0</td>\n",
       "      <td>19</td>\n",
       "      <td>10</td>\n",
       "      <td>0.0</td>\n",
       "      <td>7.990379</td>\n",
       "      <td>6.0</td>\n",
       "      <td>7.044822</td>\n",
       "      <td>8.048866</td>\n",
       "      <td>-0.654707</td>\n",
       "      <td>-0.118591</td>\n",
       "      <td>-0.072431</td>\n",
       "      <td>-0.654707</td>\n",
       "      <td>-0.792888</td>\n",
       "      <td>-0.831830</td>\n",
       "      <td>6.000000</td>\n",
       "      <td>0</td>\n",
       "    </tr>\n",
       "  </tbody>\n",
       "</table>\n",
       "</div>"
      ],
      "text/plain": [
       "    Identifier  Period  Years of Education  Choice  Systematic Wage  \\\n",
       "0            0       0                  10     2.0         6.855149   \n",
       "1            0       1                  10     0.0         7.423946   \n",
       "2            0       2                  10     0.0         7.423946   \n",
       "3            0       3                  10     0.0         7.423946   \n",
       "4            0       4                  10     0.0         7.423946   \n",
       "5            0       5                  10     2.0         7.423946   \n",
       "6            0       6                  10     1.0         7.787468   \n",
       "7            0       7                  10     0.0         7.841832   \n",
       "8            0       8                  10     0.0         7.841832   \n",
       "9            0       9                  10     0.0         7.841832   \n",
       "10           0      10                  10     0.0         7.841832   \n",
       "11           0      11                  10     1.0         7.841832   \n",
       "12           0      12                  10     0.0         7.893611   \n",
       "13           0      13                  10     0.0         7.893611   \n",
       "14           0      14                  10     0.0         7.893611   \n",
       "15           0      15                  10     0.0         7.893611   \n",
       "16           0      16                  10     1.0         7.893611   \n",
       "17           0      17                  10     1.0         7.943055   \n",
       "18           0      18                  10     0.0         7.990379   \n",
       "19           0      19                  10     0.0         7.990379   \n",
       "\n",
       "    Period Wage N  Period Wage P  Period Wage F  Consumption Utility N  \\\n",
       "0             6.0       8.188784      15.014135              -0.654707   \n",
       "1             6.0       8.725563       5.065398              -0.654707   \n",
       "2             6.0       5.689242       8.746799              -0.654707   \n",
       "3             6.0       8.349554       4.796164              -0.654707   \n",
       "4             6.0       7.107834       4.972434              -0.654707   \n",
       "5             6.0       8.181864      16.784272              -0.654707   \n",
       "6             6.0      11.461648      11.878650              -0.654707   \n",
       "7             6.0       7.258882       8.760159              -0.654707   \n",
       "8             6.0       7.081287       5.600789              -0.654707   \n",
       "9             6.0       7.440079       5.851004              -0.654707   \n",
       "10            6.0       5.127194       6.310813              -0.654707   \n",
       "11            6.0       9.869309       8.760301              -0.654707   \n",
       "12            6.0       8.206376       9.966048              -0.654707   \n",
       "13            6.0       6.576798       4.780500              -0.654707   \n",
       "14            6.0       5.971733       5.353538              -0.654707   \n",
       "15            6.0       9.603423       4.040009              -0.654707   \n",
       "16            6.0      11.710488      10.760813              -0.654707   \n",
       "17            6.0      10.004341       6.078288              -0.654707   \n",
       "18            6.0       8.919660       8.831857              -0.654707   \n",
       "19            6.0       7.044822       8.048866              -0.654707   \n",
       "\n",
       "    Consumption Utility P  Consumption Utility F  Flow Utility N  \\\n",
       "0               -0.109008              -0.051085       -0.654707   \n",
       "1               -0.105200              -0.093875       -0.654707   \n",
       "2               -0.133668              -0.069135       -0.654707   \n",
       "3               -0.107827              -0.096790       -0.654707   \n",
       "4               -0.118001              -0.094854       -0.654707   \n",
       "5               -0.109059              -0.047994       -0.654707   \n",
       "6               -0.090299              -0.058246       -0.654707   \n",
       "7               -0.116620              -0.069076       -0.654707   \n",
       "8               -0.118249              -0.088739       -0.654707   \n",
       "9               -0.115021              -0.086593       -0.654707   \n",
       "10              -0.141686              -0.083001       -0.654707   \n",
       "11              -0.098188              -0.069075       -0.654707   \n",
       "12              -0.108877              -0.064263       -0.654707   \n",
       "13              -0.123246              -0.096968       -0.654707   \n",
       "14              -0.130090              -0.091011       -0.654707   \n",
       "15              -0.099701              -0.106551       -0.654707   \n",
       "16              -0.089219              -0.061560       -0.654707   \n",
       "17              -0.097444              -0.084765       -0.654707   \n",
       "18              -0.103912              -0.068761       -0.654707   \n",
       "19              -0.118591              -0.072431       -0.654707   \n",
       "\n",
       "    Flow Utility P  Flow Utility F  Wage Observed  Educ Level  \n",
       "0        -0.728813       -0.586686      15.014135           0  \n",
       "1        -0.703355       -1.078108       6.000000           0  \n",
       "2        -0.893693       -0.793982       6.000000           0  \n",
       "3        -0.720921       -1.111592       6.000000           0  \n",
       "4        -0.788944       -1.089350       6.000000           0  \n",
       "5        -0.729158       -0.551189      16.784272           0  \n",
       "6        -0.603727       -0.668923      11.461648           0  \n",
       "7        -0.779708       -0.793303       6.000000           0  \n",
       "8        -0.790599       -1.019123       6.000000           0  \n",
       "9        -0.769016       -0.994482       6.000000           0  \n",
       "10       -0.947297       -0.953231       6.000000           0  \n",
       "11       -0.656475       -0.793296       9.869309           0  \n",
       "12       -0.727938       -0.738028       6.000000           0  \n",
       "13       -0.824007       -1.113630       6.000000           0  \n",
       "14       -0.869766       -1.045219       6.000000           0  \n",
       "15       -0.666592       -1.223691       6.000000           0  \n",
       "16       -0.596509       -0.706989      11.710488           0  \n",
       "17       -0.651498       -0.973483      10.004341           0  \n",
       "18       -0.694742       -0.789690       6.000000           0  \n",
       "19       -0.792888       -0.831830       6.000000           0  "
      ]
     },
     "execution_count": 12,
     "metadata": {},
     "output_type": "execute_result"
    }
   ],
   "source": [
    "data_sim.head(20)"
   ]
  },
  {
   "cell_type": "markdown",
   "metadata": {},
   "source": [
    "Comparison\n",
    "---------------"
   ]
  },
  {
   "cell_type": "code",
   "execution_count": 13,
   "metadata": {},
   "outputs": [
    {
     "data": {
      "text/plain": [
       "0    0.405865\n",
       "2    0.310410\n",
       "1    0.283725\n",
       "Name: Choice, dtype: float64"
      ]
     },
     "execution_count": 13,
     "metadata": {},
     "output_type": "execute_result"
    },
    {
     "data": {
      "image/png": "[encoded data removed]",
      "text/plain": [
       "<Figure size 432x288 with 1 Axes>"
      ]
     },
     "metadata": {
      "needs_background": "light"
     },
     "output_type": "display_data"
    }
   ],
   "source": [
    "# Average non-employment, part-time, and full-time rates over all periods and individuals\n",
    "# SOEP data\n",
    "data['Choice'].value_counts(normalize=True).plot(kind = 'bar')\n",
    "data['Choice'].value_counts(normalize=True)"
   ]
  },
  {
   "cell_type": "code",
   "execution_count": 14,
   "metadata": {},
   "outputs": [
    {
     "data": {
      "text/plain": [
       "0.0    0.407717\n",
       "2.0    0.327772\n",
       "1.0    0.264511\n",
       "Name: Choice, dtype: float64"
      ]
     },
     "execution_count": 14,
     "metadata": {},
     "output_type": "execute_result"
    },
    {
     "data": {
      "image/png": "[encoded data removed]",
      "text/plain": [
       "<Figure size 432x288 with 1 Axes>"
      ]
     },
     "metadata": {
      "needs_background": "light"
     },
     "output_type": "display_data"
    }
   ],
   "source": [
    "# Simulated sample\n",
    "data_sim['Choice'].value_counts(normalize=True).plot(kind = 'bar')\n",
    "data_sim['Choice'].value_counts(normalize=True)"
   ]
  },
  {
   "cell_type": "code",
   "execution_count": 15,
   "metadata": {},
   "outputs": [
    {
     "data": {
      "text/plain": [
       "<matplotlib.axes._subplots.AxesSubplot at 0x123309080>"
      ]
     },
     "execution_count": 15,
     "metadata": {},
     "output_type": "execute_result"
    },
    {
     "data": {
      "image/png": "[encoded data removed]",
      "text/plain": [
       "<Figure size 432x288 with 1 Axes>"
      ]
     },
     "metadata": {
      "needs_background": "light"
     },
     "output_type": "display_data"
    }
   ],
   "source": [
    "# Average non-employment, part-time, and full-time rates per period\n",
    "# SOEP data\n",
    "data.groupby(['Period'])['Choice'].value_counts(normalize=True).unstack().plot(kind = 'bar', stacked = True)"
   ]
  },
  {
   "cell_type": "code",
   "execution_count": 16,
   "metadata": {},
   "outputs": [
    {
     "data": {
      "text/plain": [
       "<matplotlib.axes._subplots.AxesSubplot at 0x122cd8d30>"
      ]
     },
     "execution_count": 16,
     "metadata": {},
     "output_type": "execute_result"
    },
    {
     "data": {
      "image/png": "[encoded data removed]",
      "text/plain": [
       "<Figure size 432x288 with 1 Axes>"
      ]
     },
     "metadata": {
      "needs_background": "light"
     },
     "output_type": "display_data"
    }
   ],
   "source": [
    "# Simulated sample\n",
    "data_sim.groupby(['Period'])['Choice'].value_counts(normalize=True).unstack().plot(kind = 'bar', stacked = True)"
   ]
  },
  {
   "cell_type": "code",
   "execution_count": 17,
   "metadata": {},
   "outputs": [
    {
     "data": {
      "text/plain": [
       "<matplotlib.axes._subplots.AxesSubplot at 0x122c19438>"
      ]
     },
     "execution_count": 17,
     "metadata": {},
     "output_type": "execute_result"
    },
    {
     "data": {
      "image/png": "[encoded data removed]",
      "text/plain": [
       "<Figure size 432x288 with 1 Axes>"
      ]
     },
     "metadata": {
      "needs_background": "light"
     },
     "output_type": "display_data"
    }
   ],
   "source": [
    "# Average non-employment, part-time, and full-time rates for individuals with different level of education\n",
    "# SOEP data\n",
    "data.groupby(['Educ Level'])['Choice'].value_counts(normalize=True).unstack().plot(kind = 'bar', stacked = True)"
   ]
  },
  {
   "cell_type": "code",
   "execution_count": 18,
   "metadata": {},
   "outputs": [
    {
     "data": {
      "text/plain": [
       "<matplotlib.axes._subplots.AxesSubplot at 0x123bd92e8>"
      ]
     },
     "execution_count": 18,
     "metadata": {},
     "output_type": "execute_result"
    },
    {
     "data": {
      "image/png": "[encoded data removed]",
      "text/plain": [
       "<Figure size 432x288 with 1 Axes>"
      ]
     },
     "metadata": {
      "needs_background": "light"
     },
     "output_type": "display_data"
    }
   ],
   "source": [
    "# Simulated sample\n",
    "data_sim.groupby(['Educ Level'])['Choice'].value_counts(normalize=True).unstack().plot(kind = 'bar', stacked = True)"
   ]
  },
  {
   "cell_type": "code",
   "execution_count": 19,
   "metadata": {},
   "outputs": [
    {
     "data": {
      "text/plain": [
       "<matplotlib.axes._subplots.AxesSubplot at 0x10e4592b0>"
      ]
     },
     "execution_count": 19,
     "metadata": {},
     "output_type": "execute_result"
    },
    {
     "data": {
      "image/png": "[encoded data removed]",
      "text/plain": [
       "<Figure size 432x288 with 1 Axes>"
      ]
     },
     "metadata": {
      "needs_background": "light"
     },
     "output_type": "display_data"
    }
   ],
   "source": [
    "# Average observed wage per period\n",
    "# SOEP Data\n",
    "data.groupby(['Period'])['Wage Observed'].mean().plot()"
   ]
  },
  {
   "cell_type": "code",
   "execution_count": 20,
   "metadata": {},
   "outputs": [
    {
     "data": {
      "text/plain": [
       "<matplotlib.axes._subplots.AxesSubplot at 0x6314bd780>"
      ]
     },
     "execution_count": 20,
     "metadata": {},
     "output_type": "execute_result"
    },
    {
     "data": {
      "image/png": "[encoded data removed]",
      "text/plain": [
       "<Figure size 432x288 with 1 Axes>"
      ]
     },
     "metadata": {
      "needs_background": "light"
     },
     "output_type": "display_data"
    }
   ],
   "source": [
    "# Simulated sample\n",
    "data_sim.groupby(['Period'])['Wage Observed'].mean().plot()"
   ]
  },
  {
   "cell_type": "code",
   "execution_count": 21,
   "metadata": {},
   "outputs": [
    {
     "data": {
      "text/plain": [
       "<matplotlib.legend.Legend at 0x123551b00>"
      ]
     },
     "execution_count": 21,
     "metadata": {},
     "output_type": "execute_result"
    },
    {
     "data": {
      "image/png": "[encoded data removed]",
      "text/plain": [
       "<Figure size 432x288 with 1 Axes>"
      ]
     },
     "metadata": {
      "needs_background": "light"
     },
     "output_type": "display_data"
    }
   ],
   "source": [
    "# Average period wage by level of education\n",
    "fig,ax = plt.subplots()\n",
    "\n",
    "# Generate x axis values\n",
    "period = np.arange(1,25)\n",
    "\n",
    "#Generate lines\n",
    "ax.plot(period,\n",
    "        data[data['Educ Level'] == 2].groupby(['Period'])['Wage Observed'].mean(),\n",
    "        color='green', label = 'High')\n",
    "\n",
    "# Plot settings\n",
    "ax.set_xlabel(\"period\")\n",
    "ax.set_ylabel(\"wage\")\n",
    "ax.legend(loc='best')"
   ]
  },
  {
   "cell_type": "code",
   "execution_count": 22,
   "metadata": {},
   "outputs": [
    {
     "data": {
      "text/plain": [
       "<matplotlib.legend.Legend at 0x122a07278>"
      ]
     },
     "execution_count": 22,
     "metadata": {},
     "output_type": "execute_result"
    },
    {
     "data": {
      "image/png": "[encoded data removed]",
      "text/plain": [
       "<Figure size 432x288 with 1 Axes>"
      ]
     },
     "metadata": {
      "needs_background": "light"
     },
     "output_type": "display_data"
    }
   ],
   "source": [
    "# Average period wage by level of education\n",
    "fig,ax = plt.subplots()\n",
    "\n",
    "# Generate x axis values\n",
    "period = np.arange(1,29)\n",
    "\n",
    "ax.plot(period,\n",
    "        data[data['Educ Level'] == 1].groupby(['Period'])['Wage Observed'].mean(),\n",
    "        color='orange', label = 'Middle')\n",
    "\n",
    "# Plot settings\n",
    "ax.set_xlabel(\"period\")\n",
    "ax.set_ylabel(\"wage\")\n",
    "ax.legend(loc='best')"
   ]
  },
  {
   "cell_type": "code",
   "execution_count": 23,
   "metadata": {},
   "outputs": [
    {
     "data": {
      "text/plain": [
       "<matplotlib.legend.Legend at 0x1230f7160>"
      ]
     },
     "execution_count": 23,
     "metadata": {},
     "output_type": "execute_result"
    },
    {
     "data": {
      "image/png": "[encoded data removed]",
      "text/plain": [
       "<Figure size 432x288 with 1 Axes>"
      ]
     },
     "metadata": {
      "needs_background": "light"
     },
     "output_type": "display_data"
    }
   ],
   "source": [
    "# Average period wage by level of education\n",
    "fig,ax = plt.subplots()\n",
    "\n",
    "# Generate x axis values\n",
    "period = np.arange(1,31)\n",
    "\n",
    "ax.plot(period,\n",
    "        data[data['Educ Level'] == 0].groupby(['Period'])['Wage Observed'].mean(), \n",
    "        color='blue', label = 'Low')\n",
    "\n",
    "# Plot settings\n",
    "ax.set_xlabel(\"period\")\n",
    "ax.set_ylabel(\"wage\")\n",
    "ax.legend(loc='best')"
   ]
  },
  {
   "cell_type": "code",
   "execution_count": 24,
   "metadata": {},
   "outputs": [
    {
     "data": {
      "text/plain": [
       "<matplotlib.legend.Legend at 0x122d76828>"
      ]
     },
     "execution_count": 24,
     "metadata": {},
     "output_type": "execute_result"
    },
    {
     "data": {
      "image/png": "[encoded data removed]",
      "text/plain": [
       "<Figure size 432x288 with 1 Axes>"
      ]
     },
     "metadata": {
      "needs_background": "light"
     },
     "output_type": "display_data"
    }
   ],
   "source": [
    "# Simulated sample\n",
    "fig,ax = plt.subplots()\n",
    "\n",
    "# Generate x axis values\n",
    "period = np.arange(1,31)\n",
    "\n",
    "#Generate lines\n",
    "ax.plot(period,\n",
    "        data_sim[data_sim['Educ Level'] == 2].groupby(['Period'])['Wage Observed'].mean(),\n",
    "        color='green', label = 'High')\n",
    "ax.plot(period,\n",
    "        data_sim[data_sim['Educ Level'] == 1].groupby(['Period'])['Wage Observed'].mean(),\n",
    "        color='orange', label = 'Middle')\n",
    "ax.plot(period,\n",
    "        data_sim[data_sim['Educ Level'] == 0].groupby(['Period'])['Wage Observed'].mean(), \n",
    "        color='blue', label = 'Low')\n",
    "\n",
    "# Plot settings\n",
    "ax.set_xlabel(\"period\")\n",
    "ax.set_ylabel(\"wage\")\n",
    "ax.legend(loc='best')"
   ]
  },
  {
   "cell_type": "markdown",
   "metadata": {},
   "source": [
    "To show:\n",
    "----------"
   ]
  },
  {
   "cell_type": "code",
   "execution_count": 25,
   "metadata": {},
   "outputs": [],
   "source": [
    "pt_id = list(data[(data['Period'] == 29) & (data['Choice'] == 1)]['pid'])\n",
    "ft_id = list(data[(data['Period'] == 29) & (data['Choice'] == 2)]['pid'])"
   ]
  },
  {
   "cell_type": "code",
   "execution_count": 26,
   "metadata": {},
   "outputs": [],
   "source": [
    "data_pt = pd.DataFrame()\n",
    "for i in range(len(pt_id)):\n",
    "    person_data = data[data['pid'] == pt_id[i]]\n",
    "    data_pt = data_pt.append(person_data)"
   ]
  },
  {
   "cell_type": "code",
   "execution_count": 27,
   "metadata": {},
   "outputs": [],
   "source": [
    "data_ft = pd.DataFrame()\n",
    "for i in range(len(ft_id)):\n",
    "    person_data = data[data['pid'] == ft_id[i]]\n",
    "    data_ft = data_ft.append(person_data)"
   ]
  },
  {
   "cell_type": "code",
   "execution_count": 28,
   "metadata": {},
   "outputs": [
    {
     "data": {
      "text/plain": [
       "[<matplotlib.lines.Line2D at 0x122ab4fd0>]"
      ]
     },
     "execution_count": 28,
     "metadata": {},
     "output_type": "execute_result"
    },
    {
     "data": {
      "image/png": "[encoded data removed]",
      "text/plain": [
       "<Figure size 432x288 with 1 Axes>"
      ]
     },
     "metadata": {
      "needs_background": "light"
     },
     "output_type": "display_data"
    }
   ],
   "source": [
    "# Wage growth of part-time versus full-time workers as observed in last period\n",
    "# SOEP data\n",
    "fig,ax = plt.subplots()\n",
    "\n",
    "# Generate x axis values\n",
    "period = np.arange(1,26)\n",
    "\n",
    "#Generate lines\n",
    "ax.plot(period,\n",
    "        data_pt.groupby(['Period'])['Wage Observed'].mean(),\n",
    "        color='orange', label = 'PT')\n",
    "ax.plot(period,\n",
    "        data_ft.groupby(['Period'])['Wage Observed'].mean(),\n",
    "        color='green', label = 'FT')"
   ]
  },
  {
   "cell_type": "code",
   "execution_count": 29,
   "metadata": {},
   "outputs": [
    {
     "data": {
      "text/plain": [
       "(9.412765957446808, 8.872340425531915)"
      ]
     },
     "execution_count": 29,
     "metadata": {},
     "output_type": "execute_result"
    }
   ],
   "source": [
    "# Average years of experience in part-time and full-time among 'part-timers'\n",
    "(data_pt[data_pt['Period'] == 29]['exper_pt'].describe()['mean'],\n",
    " #data_pt[data_pt['Period'] == 29]['exper_pt'].describe()['std'],\n",
    " data_pt[data_pt['Period'] == 29]['exper_ft'].describe()['mean'],\n",
    " #data_pt[data_pt['Period'] == 29]['exper_ft'].describe()['std']\n",
    ")"
   ]
  },
  {
   "cell_type": "code",
   "execution_count": 30,
   "metadata": {},
   "outputs": [
    {
     "data": {
      "text/plain": [
       "(3.111576011157601, 17.880055788005578)"
      ]
     },
     "execution_count": 30,
     "metadata": {},
     "output_type": "execute_result"
    }
   ],
   "source": [
    "# Average years of experience in part-time and full-time among 'full-timers'\n",
    "(data_ft[data_ft['Period'] == 29]['exper_pt'].describe()['mean'],\n",
    " #data_ft[data_ft['Period'] == 29]['exper_pt'].describe()['std'],\n",
    " data_ft[data_ft['Period'] == 29]['exper_ft'].describe()['mean'],\n",
    " #data_ft[data_ft['Period'] == 29]['exper_ft'].describe()['std']\n",
    ")"
   ]
  },
  {
   "cell_type": "code",
   "execution_count": 31,
   "metadata": {},
   "outputs": [
    {
     "data": {
      "text/plain": [
       "Educ Level\n",
       "0    0.317766\n",
       "1    0.537056\n",
       "2    0.145178\n",
       "Name: pid, dtype: float64"
      ]
     },
     "execution_count": 31,
     "metadata": {},
     "output_type": "execute_result"
    }
   ],
   "source": [
    "# Education level propensities among 'part-timers'\n",
    "data_pt[data_pt['Period'] == 29].groupby('Educ Level')['pid'].count()/data_pt[data_pt['Period'] == 29]['pid'].count()"
   ]
  },
  {
   "cell_type": "code",
   "execution_count": 32,
   "metadata": {},
   "outputs": [
    {
     "data": {
      "text/plain": [
       "Educ Level\n",
       "0    0.371202\n",
       "1    0.459709\n",
       "2    0.169089\n",
       "Name: pid, dtype: float64"
      ]
     },
     "execution_count": 32,
     "metadata": {},
     "output_type": "execute_result"
    }
   ],
   "source": [
    "# Education level propensities among 'full-timers'\n",
    "data_ft[data_ft['Period'] == 29].groupby('Educ Level')['pid'].count()/data_ft[data_ft['Period'] == 29]['pid'].count()"
   ]
  },
  {
   "cell_type": "code",
   "execution_count": 33,
   "metadata": {},
   "outputs": [
    {
     "data": {
      "text/plain": [
       "2.6314532381429654"
      ]
     },
     "execution_count": 33,
     "metadata": {},
     "output_type": "execute_result"
    }
   ],
   "source": [
    "# Difference in average wages of part-timers and full-timers in last period\n",
    "data_ft[data_ft['Period'] == 21]['Wage Observed'].mean() - data_pt[data_pt['Period'] == 21]['Wage Observed'].mean()"
   ]
  },
  {
   "cell_type": "markdown",
   "metadata": {},
   "source": [
    "Simulated sample"
   ]
  },
  {
   "cell_type": "code",
   "execution_count": 34,
   "metadata": {},
   "outputs": [],
   "source": [
    "pt_id = list(data_sim[(data_sim['Period'] == 29) & (data_sim['Choice'] == 1)]['Identifier'])\n",
    "ft_id = list(data_sim[(data_sim['Period'] == 29) & (data_sim['Choice'] == 2)]['Identifier'])"
   ]
  },
  {
   "cell_type": "code",
   "execution_count": 35,
   "metadata": {},
   "outputs": [],
   "source": [
    "data_sim_pt = pd.DataFrame()\n",
    "for i in range(len(pt_id)):\n",
    "    person_data = data_sim[data_sim['Identifier'] == pt_id[i]]\n",
    "    data_sim_pt = data_sim_pt.append(person_data)"
   ]
  },
  {
   "cell_type": "code",
   "execution_count": 36,
   "metadata": {},
   "outputs": [],
   "source": [
    "data_sim_ft = pd.DataFrame()\n",
    "for i in range(len(ft_id)):\n",
    "    person_data = data_sim[data_sim['Identifier'] == ft_id[i]]\n",
    "    data_sim_ft = data_sim_ft.append(person_data)"
   ]
  },
  {
   "cell_type": "code",
   "execution_count": 37,
   "metadata": {},
   "outputs": [
    {
     "data": {
      "text/plain": [
       "[<matplotlib.lines.Line2D at 0x1231ae3c8>]"
      ]
     },
     "execution_count": 37,
     "metadata": {},
     "output_type": "execute_result"
    },
    {
     "data": {
      "image/png": "[encoded data removed]",
      "text/plain": [
       "<Figure size 432x288 with 1 Axes>"
      ]
     },
     "metadata": {
      "needs_background": "light"
     },
     "output_type": "display_data"
    }
   ],
   "source": [
    "# Wage growth of part-time versus full-time workers as observed in last period\n",
    "# SOEP data\n",
    "fig,ax = plt.subplots()\n",
    "\n",
    "# Generate x axis values\n",
    "period = np.arange(1,31)\n",
    "\n",
    "#Generate lines\n",
    "ax.plot(period,\n",
    "        data_sim_pt.groupby(['Period'])['Wage Observed'].mean(),\n",
    "        color='orange', label = 'PT')\n",
    "ax.plot(period,\n",
    "        data_sim_ft.groupby(['Period'])['Wage Observed'].mean(),\n",
    "        color='green', label = 'FT')"
   ]
  },
  {
   "cell_type": "code",
   "execution_count": 38,
   "metadata": {},
   "outputs": [
    {
     "data": {
      "text/plain": [
       "(8.538461538461538, 9.375)"
      ]
     },
     "execution_count": 38,
     "metadata": {},
     "output_type": "execute_result"
    }
   ],
   "source": [
    "# Average years of experience in part-time and full-time among 'part-timers'\n",
    "(data_sim_pt[data_sim_pt['Choice'] == 1].groupby(['Identifier'])['Period'].count().mean(),\n",
    " data_sim_pt[data_sim_pt['Choice'] == 2].groupby(['Identifier'])['Period'].count().mean())"
   ]
  },
  {
   "cell_type": "code",
   "execution_count": 39,
   "metadata": {},
   "outputs": [
    {
     "data": {
      "text/plain": [
       "(7.477611940298507, 10.24907063197026)"
      ]
     },
     "execution_count": 39,
     "metadata": {},
     "output_type": "execute_result"
    }
   ],
   "source": [
    "# Average years of experience in part-time and full-time among 'full-timers'\n",
    "(data_sim_ft[data_sim_ft['Choice'] == 1].groupby(['Identifier'])['Period'].count().mean(),\n",
    " data_sim_ft[data_sim_ft['Choice'] == 2].groupby(['Identifier'])['Period'].count().mean())"
   ]
  },
  {
   "cell_type": "code",
   "execution_count": 40,
   "metadata": {},
   "outputs": [
    {
     "data": {
      "text/plain": [
       "Educ Level\n",
       "0    0.134615\n",
       "1    0.641827\n",
       "2    0.223558\n",
       "Name: Identifier, dtype: float64"
      ]
     },
     "execution_count": 40,
     "metadata": {},
     "output_type": "execute_result"
    }
   ],
   "source": [
    "# Education level propensities among 'part-timers'\n",
    "data_sim_pt[data_sim_pt['Period'] == 29].groupby('Educ Level')['Identifier'].count()/data_sim_pt[data_sim_pt['Period'] == 29]['Identifier'].count()"
   ]
  },
  {
   "cell_type": "code",
   "execution_count": 41,
   "metadata": {},
   "outputs": [
    {
     "data": {
      "text/plain": [
       "Educ Level\n",
       "0    0.171004\n",
       "1    0.620818\n",
       "2    0.208178\n",
       "Name: Identifier, dtype: float64"
      ]
     },
     "execution_count": 41,
     "metadata": {},
     "output_type": "execute_result"
    }
   ],
   "source": [
    "# Education level propensities among 'full-timers'\n",
    "data_sim_ft[data_sim_ft['Period'] == 29].groupby('Educ Level')['Identifier'].count()/data_sim_ft[data_sim_ft['Period'] == 29]['Identifier'].count()"
   ]
  },
  {
   "cell_type": "markdown",
   "metadata": {},
   "source": [
    "Beliefs counterfactual"
   ]
  },
  {
   "cell_type": "code",
   "execution_count": 42,
   "metadata": {},
   "outputs": [],
   "source": [
    "# Counterfactual simulation biased beliefs\n",
    "data_sim_counterfactual = soepy.simulate('counterfact_results_2_init_file_1000.yml')"
   ]
  },
  {
   "cell_type": "code",
   "execution_count": 43,
   "metadata": {},
   "outputs": [],
   "source": [
    "#Determine the observed wage given period choice\n",
    "def get_observed_wage (row):\n",
    "    if row['Choice'] == 2:\n",
    "        return row['Period Wage F']\n",
    "    elif row['Choice'] ==1:\n",
    "        return row['Period Wage P']\n",
    "    elif row['Choice'] ==0:\n",
    "        return row['Period Wage N']\n",
    "    else:\n",
    "        return np.nan\n",
    "\n",
    "# Add to data frame\n",
    "data_sim_counterfactual['Wage Observed'] = data_sim_counterfactual.apply(\n",
    "    lambda row: get_observed_wage (row),axis=1\n",
    ")\n",
    "\n",
    "# Determine the education level\n",
    "def get_educ_level(row):\n",
    "    if row[\"Years of Education\"] >= 10 and row[\"Years of Education\"] < 12:\n",
    "        return 0\n",
    "    elif row[\"Years of Education\"] >= 12 and row[\"Years of Education\"] < 16:\n",
    "        return 1\n",
    "    elif row[\"Years of Education\"] >= 16:\n",
    "        return 2\n",
    "    else:\n",
    "        return np.nan\n",
    "\n",
    "data_sim_counterfactual[\"Educ Level\"] = data_sim_counterfactual.apply(\n",
    "    lambda row: get_educ_level(row), axis=1\n",
    ")"
   ]
  },
  {
   "cell_type": "code",
   "execution_count": 44,
   "metadata": {},
   "outputs": [
    {
     "data": {
      "text/plain": [
       "<matplotlib.legend.Legend at 0x62773b9e8>"
      ]
     },
     "execution_count": 44,
     "metadata": {},
     "output_type": "execute_result"
    },
    {
     "data": {
      "image/png": "[encoded data removed]",
      "text/plain": [
       "<Figure size 432x288 with 1 Axes>"
      ]
     },
     "metadata": {
      "needs_background": "light"
     },
     "output_type": "display_data"
    }
   ],
   "source": [
    "# Part-time rates by peroid with rational expectations\n",
    "fig,ax = plt.subplots()\n",
    "\n",
    "# Generate x axis values\n",
    "period = np.arange(1,31)\n",
    "\n",
    "#Generate lines\n",
    "ax.plot(period,\n",
    "        data_sim[data_sim['Choice'] == 1].groupby(['Period'])['Identifier'].count()/1000,\n",
    "        color='blue', label = 'Rational')\n",
    "ax.plot(period,\n",
    "        data_sim_counterfactual[data_sim_counterfactual['Choice'] == 1].groupby(['Period'])['Identifier'].count()/1000,\n",
    "        color='red', label = 'Biased')\n",
    "\n",
    "# Plot settings\n",
    "ax.set_xlabel(\"period\")\n",
    "ax.set_ylabel(\"part-time rate\")\n",
    "ax.legend(loc='best')"
   ]
  },
  {
   "cell_type": "code",
   "execution_count": null,
   "metadata": {},
   "outputs": [],
   "source": []
  }
 ],
 "metadata": {
  "kernelspec": {
   "display_name": "Python [conda env:soepy]",
   "language": "python",
   "name": "conda-env-soepy-py"
  },
  "language_info": {
   "codemirror_mode": {
    "name": "ipython",
    "version": 3
   },
   "file_extension": ".py",
   "mimetype": "text/x-python",
   "name": "python",
   "nbconvert_exporter": "python",
   "pygments_lexer": "ipython3",
   "version": "3.7.2"
  }
 },
 "nbformat": 4,
 "nbformat_minor": 2
}
