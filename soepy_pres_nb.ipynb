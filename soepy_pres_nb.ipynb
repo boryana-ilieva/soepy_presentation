{
 "cells": [
  {
   "cell_type": "markdown",
   "metadata": {},
   "source": [
    "# soepy"
   ]
  },
  {
   "cell_type": "markdown",
   "metadata": {},
   "source": [
    "You can find the current version of soepy on the [GitHub Repo](https://github.com/OpenSourceEconomics/soepy) of OpenSourceEconomics."
   ]
  },
  {
   "cell_type": "markdown",
   "metadata": {},
   "source": [
    "Agenda:\n",
    "1. My current research project\n",
    "    * Reseach question and motivation\n",
    "    * Economic model\n",
    "2. Simulation with soepy\n",
    "    * Simulation functionality\n",
    "    * Introducing namedtuple\n",
    "    * Descriptives and comparative statics\n",
    "3. SMM estimation with soepy"
   ]
  },
  {
   "cell_type": "markdown",
   "metadata": {},
   "source": [
    "## Current research project"
   ]
  },
  {
   "cell_type": "markdown",
   "metadata": {},
   "source": [
    "-> see slides"
   ]
  },
  {
   "cell_type": "markdown",
   "metadata": {},
   "source": [
    "## Simulation with soepy"
   ]
  },
  {
   "cell_type": "markdown",
   "metadata": {},
   "source": [
    "### Simulation functionality"
   ]
  },
  {
   "cell_type": "markdown",
   "metadata": {},
   "source": [
    "The soepy package simulates a data set of individual choices and experiences based on an initialization file of the form presented below.\n",
    "\n",
    "The parameters of the model are specified under PARAMETERS and include:\n",
    "* returns to education\n",
    "* returns to total years of experience\n",
    "* returns to experience in part-time employment\n",
    "* depreciation of accumulated experience while out of employment\n",
    "* disutility of work\n",
    "* period wage/productivity shocks\n",
    "\n",
    "These are potential free parameters of the model, we would ultimately wish to estimate using soepy."
   ]
  },
  {
   "cell_type": "markdown",
   "metadata": {},
   "source": [
    "Parameter values in this baseline specification are set according to estimates in Blundell (2016)."
   ]
  },
  {
   "cell_type": "markdown",
   "metadata": {},
   "source": [
    "```yaml\n",
    "---\n",
    "GENERAL:\n",
    "    num_periods: 10\n",
    "    num_choices: 3\n",
    "CONSTANTS:\n",
    "    delta: 0.98\n",
    "    mu: -0.56\n",
    "    benefits: 1850.00\n",
    "INITIAL_CONDITIONS:\n",
    "    educ_max: 14\n",
    "    educ_min: 10\n",
    "SIMULATION:\n",
    "    seed_sim: 102\n",
    "    num_agents_sim: 1000\n",
    "SOLUTION:\n",
    "    seed_emax: 635\n",
    "    num_draws_emax: 500\n",
    "PARAMETERS:\n",
    "    gamma_0s1: 5.406\n",
    "    gamma_0s2: 5.574\n",
    "    gamma_0s3: 6.949\n",
    "    gamma_1s1: 0.152\n",
    "    gamma_1s2: 0.229\n",
    "    gamma_1s3: 0.306\n",
    "    g_s1: 0.150\n",
    "    g_s2: 0.096\n",
    "    g_s3: 0.116\n",
    "    delta_s1: 0.081\n",
    "    delta_s2: 0.057\n",
    "    delta_s3: 0.073\n",
    "    theta_p: -0.10\n",
    "    theta_f: -0.30\n",
    "    sigma_0: 1.00\n",
    "    sigma_1: 1.25\n",
    "    sigma_2: 1.60\n",
    "```"
   ]
  },
  {
   "cell_type": "markdown",
   "metadata": {},
   "source": [
    "soepy is not a Class object. The simulation procedure comprises the consecutive execution of three main functions.\n",
    "\n",
    "```python\n",
    "def simulate(init_file_name):\n",
    "    \"\"\"Create a data frame of individuals' simulated experiences.\"\"\"\n",
    "    # Read in model specification from yaml file\n",
    "    model_params = read_init_file(init_file_name)\n",
    "\n",
    "    # Obtain model solution\n",
    "    state_space_args, periods_emax = pyth_solve(model_params)\n",
    "\n",
    "    # Simulate agents experiences according to parameters in the model specification\n",
    "    dataset = pyth_simulate(model_params, state_space_args, periods_emax)\n",
    "    \n",
    "    [...]\n",
    "    \n",
    "    return dataset\n",
    "```\n",
    "\n",
    "1. Obtain state space grid and derived arguments\n",
    "2. Obtain the value function maximum values for all admissible states and periods in a backward induction procedure.\n",
    "3. Simulate choices and related information for a specified number of agents and periods given solution\n",
    "\n",
    "```python\n",
    "def pyth_solve(attr_dict):\n",
    "    \"\"\"Solve the model by backward induction.\"\"\"\n",
    "\n",
    "    # Create all necessary grids and objects related to the state space\n",
    "    state_space_args = pyth_create_state_space(model_params)\n",
    "\n",
    "    # Solve the model in a backward induction procedure\n",
    "    # Error term for continuation values is integrated out\n",
    "    # numerically in a Monte Carlo procedure\n",
    "    periods_emax = pyth_backward_induction(model_params, state_space_args)\n",
    "\n",
    "    # Return function output\n",
    "    return state_space_args, periods_emax\n",
    "```\n",
    "\n",
    "Note:\n",
    "* backward indiction is the bottleneck as far as performance is concerned\n",
    "* state space arguments are analogous to \"old\" respy structure\n",
    "* in contrast to respy additional covariates derived based on state space atributes are created only once outside the backward induction loop"
   ]
  },
  {
   "cell_type": "markdown",
   "metadata": {},
   "source": [
    "### Introducing namedtuple"
   ]
  },
  {
   "cell_type": "markdown",
   "metadata": {},
   "source": [
    "In soepy, the model parameters specified at initialization are passed to the following functions using [namedtuple](https://pymotw.com/2/collections/namedtuple.html).\n",
    "\n",
    "The standard tuple uses numerical indexes to access its members. A namedtuple assigns names, as well as the numerical index, to each member."
   ]
  },
  {
   "cell_type": "code",
   "execution_count": 1,
   "metadata": {},
   "outputs": [
    {
     "data": {
      "text/plain": [
       "Person(name='Bob', age=30, gender='male')"
      ]
     },
     "execution_count": 1,
     "metadata": {},
     "output_type": "execute_result"
    }
   ],
   "source": [
    "import collections\n",
    "\n",
    "Person = collections.namedtuple('Person', 'name age gender')\n",
    "\n",
    "bob = Person(name='Bob', age=30, gender='male')\n",
    "bob"
   ]
  },
  {
   "cell_type": "code",
   "execution_count": 2,
   "metadata": {},
   "outputs": [
    {
     "data": {
      "text/plain": [
       "'Jane'"
      ]
     },
     "execution_count": 2,
     "metadata": {},
     "output_type": "execute_result"
    }
   ],
   "source": [
    "jane = Person(name='Jane', age=29, gender='female')\n",
    "jane.name"
   ]
  },
  {
   "cell_type": "code",
   "execution_count": 3,
   "metadata": {},
   "outputs": [
    {
     "name": "stdout",
     "output_type": "stream",
     "text": [
      "Bob is a 30 year old male\n",
      "Jane is a 29 year old female\n"
     ]
    }
   ],
   "source": [
    "for p in [ bob, jane ]:\n",
    "    print ('%s is a %d year old %s' % p)"
   ]
  },
  {
   "cell_type": "markdown",
   "metadata": {},
   "source": [
    "Usage in soepy:\n",
    "\n",
    "Create namedtuple model parameters containing the specifications made in the initialization yaml file:"
   ]
  },
  {
   "cell_type": "markdown",
   "metadata": {},
   "source": [
    "```python\n",
    "def create_namedtuple(init_dict):\n",
    "\n",
    "    \"\"\"Transfers model specification from a dictionary\n",
    "    to a named tuple class object.\"\"\"\n",
    "\n",
    "    model_params = cl.namedtuple(\"model_parameters\", \"\")\n",
    "    model_params.num_periods = init_dict[\"GENERAL\"][\"num_periods\"]\n",
    "    model_params.num_choices = init_dict[\"GENERAL\"][\"num_choices\"]\n",
    "    \n",
    "    [...]\n",
    "    \n",
    "    return model_params\n",
    "```"
   ]
  },
  {
   "cell_type": "markdown",
   "metadata": {},
   "source": [
    "Pass the named tuple to all nested functions and call parameter using namedtuple.nameindex:"
   ]
  },
  {
   "cell_type": "markdown",
   "metadata": {},
   "source": [
    "```python\n",
    "def create_state_space(model_params):\n",
    "    \"\"\"Create state space related objects\n",
    "    given state space components in model specification.\n",
    "    \"\"\"\n",
    "    [...]\n",
    "     # Loop over all periods / all ages\n",
    "        for period in range(model_params.num_periods):\n",
    "\n",
    "            # Start count for admissible state space points\n",
    "            k = 0\n",
    "\n",
    "            # Loop over all possible initial conditions for education\n",
    "            for educ_years in range(model_params.educ_range):\n",
    "\n",
    "                # Check if individual has already completed education\n",
    "                # and will make a labor supply choice in the period\n",
    "                if educ_years > period:\n",
    "                    continue\n",
    "    [...]\n",
    "    return state_space_args\n",
    "```"
   ]
  },
  {
   "cell_type": "markdown",
   "metadata": {},
   "source": [
    "### Descriptives and comparative statics"
   ]
  },
  {
   "cell_type": "code",
   "execution_count": 20,
   "metadata": {},
   "outputs": [
    {
     "data": {
      "text/html": [
       "<div>\n",
       "<style scoped>\n",
       "    .dataframe tbody tr th:only-of-type {\n",
       "        vertical-align: middle;\n",
       "    }\n",
       "\n",
       "    .dataframe tbody tr th {\n",
       "        vertical-align: top;\n",
       "    }\n",
       "\n",
       "    .dataframe thead th {\n",
       "        text-align: right;\n",
       "    }\n",
       "</style>\n",
       "<table border=\"1\" class=\"dataframe\">\n",
       "  <thead>\n",
       "    <tr style=\"text-align: right;\">\n",
       "      <th></th>\n",
       "      <th>Unnamed: 0</th>\n",
       "      <th>Identifier</th>\n",
       "      <th>Period</th>\n",
       "      <th>Years of Education</th>\n",
       "      <th>Choice</th>\n",
       "      <th>Systematic Wage</th>\n",
       "      <th>Period Wage N</th>\n",
       "      <th>Period Wage P</th>\n",
       "      <th>Period Wage F</th>\n",
       "      <th>Consumption Utility N</th>\n",
       "      <th>Consumption Utility P</th>\n",
       "      <th>Consumption Utility F</th>\n",
       "      <th>Flow Utility N</th>\n",
       "      <th>Flow Utility P</th>\n",
       "      <th>Flow Utility F</th>\n",
       "      <th>Wage Observed</th>\n",
       "    </tr>\n",
       "  </thead>\n",
       "  <tbody>\n",
       "    <tr>\n",
       "      <th>0</th>\n",
       "      <td>0</td>\n",
       "      <td>0</td>\n",
       "      <td>0</td>\n",
       "      <td>10</td>\n",
       "      <td>2.0</td>\n",
       "      <td>33.856305</td>\n",
       "      <td>1850.0</td>\n",
       "      <td>107.711086</td>\n",
       "      <td>488.351051</td>\n",
       "      <td>-0.026436</td>\n",
       "      <td>-0.025751</td>\n",
       "      <td>-0.007268</td>\n",
       "      <td>-0.026436</td>\n",
       "      <td>-0.023300</td>\n",
       "      <td>-0.005385</td>\n",
       "      <td>488.351051</td>\n",
       "    </tr>\n",
       "    <tr>\n",
       "      <th>1</th>\n",
       "      <td>1</td>\n",
       "      <td>0</td>\n",
       "      <td>1</td>\n",
       "      <td>10</td>\n",
       "      <td>1.0</td>\n",
       "      <td>64.970249</td>\n",
       "      <td>1850.0</td>\n",
       "      <td>185.984536</td>\n",
       "      <td>17.682189</td>\n",
       "      <td>-0.026436</td>\n",
       "      <td>-0.018965</td>\n",
       "      <td>-0.046614</td>\n",
       "      <td>-0.026436</td>\n",
       "      <td>-0.017160</td>\n",
       "      <td>-0.034532</td>\n",
       "      <td>185.984536</td>\n",
       "    </tr>\n",
       "    <tr>\n",
       "      <th>2</th>\n",
       "      <td>2</td>\n",
       "      <td>0</td>\n",
       "      <td>2</td>\n",
       "      <td>10</td>\n",
       "      <td>2.0</td>\n",
       "      <td>69.637341</td>\n",
       "      <td>1850.0</td>\n",
       "      <td>12.313057</td>\n",
       "      <td>121.695346</td>\n",
       "      <td>-0.026436</td>\n",
       "      <td>-0.086747</td>\n",
       "      <td>-0.015826</td>\n",
       "      <td>-0.026436</td>\n",
       "      <td>-0.078492</td>\n",
       "      <td>-0.011724</td>\n",
       "      <td>121.695346</td>\n",
       "    </tr>\n",
       "    <tr>\n",
       "      <th>3</th>\n",
       "      <td>3</td>\n",
       "      <td>0</td>\n",
       "      <td>3</td>\n",
       "      <td>10</td>\n",
       "      <td>1.0</td>\n",
       "      <td>100.751285</td>\n",
       "      <td>1850.0</td>\n",
       "      <td>216.504696</td>\n",
       "      <td>22.767989</td>\n",
       "      <td>-0.026436</td>\n",
       "      <td>-0.017418</td>\n",
       "      <td>-0.040461</td>\n",
       "      <td>-0.026436</td>\n",
       "      <td>-0.015760</td>\n",
       "      <td>-0.029974</td>\n",
       "      <td>216.504696</td>\n",
       "    </tr>\n",
       "    <tr>\n",
       "      <th>4</th>\n",
       "      <td>4</td>\n",
       "      <td>0</td>\n",
       "      <td>4</td>\n",
       "      <td>10</td>\n",
       "      <td>2.0</td>\n",
       "      <td>105.418377</td>\n",
       "      <td>1850.0</td>\n",
       "      <td>79.411938</td>\n",
       "      <td>26.937182</td>\n",
       "      <td>-0.026436</td>\n",
       "      <td>-0.030544</td>\n",
       "      <td>-0.036824</td>\n",
       "      <td>-0.026436</td>\n",
       "      <td>-0.027637</td>\n",
       "      <td>-0.027280</td>\n",
       "      <td>26.937182</td>\n",
       "    </tr>\n",
       "    <tr>\n",
       "      <th>5</th>\n",
       "      <td>5</td>\n",
       "      <td>0</td>\n",
       "      <td>5</td>\n",
       "      <td>10</td>\n",
       "      <td>2.0</td>\n",
       "      <td>136.532321</td>\n",
       "      <td>1850.0</td>\n",
       "      <td>257.092091</td>\n",
       "      <td>2194.083748</td>\n",
       "      <td>-0.026436</td>\n",
       "      <td>-0.015820</td>\n",
       "      <td>-0.003134</td>\n",
       "      <td>-0.026436</td>\n",
       "      <td>-0.014315</td>\n",
       "      <td>-0.002321</td>\n",
       "      <td>2194.083748</td>\n",
       "    </tr>\n",
       "    <tr>\n",
       "      <th>6</th>\n",
       "      <td>6</td>\n",
       "      <td>0</td>\n",
       "      <td>6</td>\n",
       "      <td>10</td>\n",
       "      <td>2.0</td>\n",
       "      <td>167.646265</td>\n",
       "      <td>1850.0</td>\n",
       "      <td>2075.737100</td>\n",
       "      <td>705.724055</td>\n",
       "      <td>-0.026436</td>\n",
       "      <td>-0.004912</td>\n",
       "      <td>-0.005914</td>\n",
       "      <td>-0.026436</td>\n",
       "      <td>-0.004444</td>\n",
       "      <td>-0.004381</td>\n",
       "      <td>705.724055</td>\n",
       "    </tr>\n",
       "    <tr>\n",
       "      <th>7</th>\n",
       "      <td>7</td>\n",
       "      <td>0</td>\n",
       "      <td>7</td>\n",
       "      <td>10</td>\n",
       "      <td>2.0</td>\n",
       "      <td>198.760209</td>\n",
       "      <td>1850.0</td>\n",
       "      <td>120.204163</td>\n",
       "      <td>289.771213</td>\n",
       "      <td>-0.026436</td>\n",
       "      <td>-0.024216</td>\n",
       "      <td>-0.009736</td>\n",
       "      <td>-0.026436</td>\n",
       "      <td>-0.021912</td>\n",
       "      <td>-0.007213</td>\n",
       "      <td>289.771213</td>\n",
       "    </tr>\n",
       "    <tr>\n",
       "      <th>8</th>\n",
       "      <td>8</td>\n",
       "      <td>0</td>\n",
       "      <td>8</td>\n",
       "      <td>10</td>\n",
       "      <td>2.0</td>\n",
       "      <td>229.874153</td>\n",
       "      <td>1850.0</td>\n",
       "      <td>118.316117</td>\n",
       "      <td>73.096367</td>\n",
       "      <td>-0.026436</td>\n",
       "      <td>-0.024432</td>\n",
       "      <td>-0.021055</td>\n",
       "      <td>-0.026436</td>\n",
       "      <td>-0.022107</td>\n",
       "      <td>-0.015598</td>\n",
       "      <td>73.096367</td>\n",
       "    </tr>\n",
       "    <tr>\n",
       "      <th>9</th>\n",
       "      <td>9</td>\n",
       "      <td>0</td>\n",
       "      <td>9</td>\n",
       "      <td>10</td>\n",
       "      <td>2.0</td>\n",
       "      <td>260.988098</td>\n",
       "      <td>1850.0</td>\n",
       "      <td>185.320303</td>\n",
       "      <td>96.303787</td>\n",
       "      <td>-0.026436</td>\n",
       "      <td>-0.019003</td>\n",
       "      <td>-0.018042</td>\n",
       "      <td>-0.026436</td>\n",
       "      <td>-0.017195</td>\n",
       "      <td>-0.013366</td>\n",
       "      <td>96.303787</td>\n",
       "    </tr>\n",
       "    <tr>\n",
       "      <th>10</th>\n",
       "      <td>10</td>\n",
       "      <td>1</td>\n",
       "      <td>0</td>\n",
       "      <td>13</td>\n",
       "      <td>NaN</td>\n",
       "      <td>NaN</td>\n",
       "      <td>NaN</td>\n",
       "      <td>NaN</td>\n",
       "      <td>NaN</td>\n",
       "      <td>NaN</td>\n",
       "      <td>NaN</td>\n",
       "      <td>NaN</td>\n",
       "      <td>NaN</td>\n",
       "      <td>NaN</td>\n",
       "      <td>NaN</td>\n",
       "      <td>NaN</td>\n",
       "    </tr>\n",
       "    <tr>\n",
       "      <th>11</th>\n",
       "      <td>11</td>\n",
       "      <td>1</td>\n",
       "      <td>1</td>\n",
       "      <td>13</td>\n",
       "      <td>NaN</td>\n",
       "      <td>NaN</td>\n",
       "      <td>NaN</td>\n",
       "      <td>NaN</td>\n",
       "      <td>NaN</td>\n",
       "      <td>NaN</td>\n",
       "      <td>NaN</td>\n",
       "      <td>NaN</td>\n",
       "      <td>NaN</td>\n",
       "      <td>NaN</td>\n",
       "      <td>NaN</td>\n",
       "      <td>NaN</td>\n",
       "    </tr>\n",
       "    <tr>\n",
       "      <th>12</th>\n",
       "      <td>12</td>\n",
       "      <td>1</td>\n",
       "      <td>2</td>\n",
       "      <td>13</td>\n",
       "      <td>NaN</td>\n",
       "      <td>NaN</td>\n",
       "      <td>NaN</td>\n",
       "      <td>NaN</td>\n",
       "      <td>NaN</td>\n",
       "      <td>NaN</td>\n",
       "      <td>NaN</td>\n",
       "      <td>NaN</td>\n",
       "      <td>NaN</td>\n",
       "      <td>NaN</td>\n",
       "      <td>NaN</td>\n",
       "      <td>NaN</td>\n",
       "    </tr>\n",
       "    <tr>\n",
       "      <th>13</th>\n",
       "      <td>13</td>\n",
       "      <td>1</td>\n",
       "      <td>3</td>\n",
       "      <td>13</td>\n",
       "      <td>2.0</td>\n",
       "      <td>318.884773</td>\n",
       "      <td>1850.0</td>\n",
       "      <td>64.907907</td>\n",
       "      <td>138.307487</td>\n",
       "      <td>-0.026436</td>\n",
       "      <td>-0.034196</td>\n",
       "      <td>-0.014732</td>\n",
       "      <td>-0.026436</td>\n",
       "      <td>-0.030942</td>\n",
       "      <td>-0.010914</td>\n",
       "      <td>138.307487</td>\n",
       "    </tr>\n",
       "    <tr>\n",
       "      <th>14</th>\n",
       "      <td>14</td>\n",
       "      <td>1</td>\n",
       "      <td>4</td>\n",
       "      <td>13</td>\n",
       "      <td>2.0</td>\n",
       "      <td>614.490957</td>\n",
       "      <td>1850.0</td>\n",
       "      <td>2014.977410</td>\n",
       "      <td>8416.059402</td>\n",
       "      <td>-0.026436</td>\n",
       "      <td>-0.004994</td>\n",
       "      <td>-0.001476</td>\n",
       "      <td>-0.026436</td>\n",
       "      <td>-0.004519</td>\n",
       "      <td>-0.001093</td>\n",
       "      <td>8416.059402</td>\n",
       "    </tr>\n",
       "    <tr>\n",
       "      <th>15</th>\n",
       "      <td>15</td>\n",
       "      <td>1</td>\n",
       "      <td>5</td>\n",
       "      <td>13</td>\n",
       "      <td>1.0</td>\n",
       "      <td>910.097141</td>\n",
       "      <td>1850.0</td>\n",
       "      <td>4219.953322</td>\n",
       "      <td>361.909745</td>\n",
       "      <td>-0.026436</td>\n",
       "      <td>-0.003301</td>\n",
       "      <td>-0.008596</td>\n",
       "      <td>-0.026436</td>\n",
       "      <td>-0.002987</td>\n",
       "      <td>-0.006368</td>\n",
       "      <td>4219.953322</td>\n",
       "    </tr>\n",
       "  </tbody>\n",
       "</table>\n",
       "</div>"
      ],
      "text/plain": [
       "    Unnamed: 0  Identifier  Period  Years of Education  Choice  \\\n",
       "0            0           0       0                  10     2.0   \n",
       "1            1           0       1                  10     1.0   \n",
       "2            2           0       2                  10     2.0   \n",
       "3            3           0       3                  10     1.0   \n",
       "4            4           0       4                  10     2.0   \n",
       "5            5           0       5                  10     2.0   \n",
       "6            6           0       6                  10     2.0   \n",
       "7            7           0       7                  10     2.0   \n",
       "8            8           0       8                  10     2.0   \n",
       "9            9           0       9                  10     2.0   \n",
       "10          10           1       0                  13     NaN   \n",
       "11          11           1       1                  13     NaN   \n",
       "12          12           1       2                  13     NaN   \n",
       "13          13           1       3                  13     2.0   \n",
       "14          14           1       4                  13     2.0   \n",
       "15          15           1       5                  13     1.0   \n",
       "\n",
       "    Systematic Wage  Period Wage N  Period Wage P  Period Wage F  \\\n",
       "0         33.856305         1850.0     107.711086     488.351051   \n",
       "1         64.970249         1850.0     185.984536      17.682189   \n",
       "2         69.637341         1850.0      12.313057     121.695346   \n",
       "3        100.751285         1850.0     216.504696      22.767989   \n",
       "4        105.418377         1850.0      79.411938      26.937182   \n",
       "5        136.532321         1850.0     257.092091    2194.083748   \n",
       "6        167.646265         1850.0    2075.737100     705.724055   \n",
       "7        198.760209         1850.0     120.204163     289.771213   \n",
       "8        229.874153         1850.0     118.316117      73.096367   \n",
       "9        260.988098         1850.0     185.320303      96.303787   \n",
       "10              NaN            NaN            NaN            NaN   \n",
       "11              NaN            NaN            NaN            NaN   \n",
       "12              NaN            NaN            NaN            NaN   \n",
       "13       318.884773         1850.0      64.907907     138.307487   \n",
       "14       614.490957         1850.0    2014.977410    8416.059402   \n",
       "15       910.097141         1850.0    4219.953322     361.909745   \n",
       "\n",
       "    Consumption Utility N  Consumption Utility P  Consumption Utility F  \\\n",
       "0               -0.026436              -0.025751              -0.007268   \n",
       "1               -0.026436              -0.018965              -0.046614   \n",
       "2               -0.026436              -0.086747              -0.015826   \n",
       "3               -0.026436              -0.017418              -0.040461   \n",
       "4               -0.026436              -0.030544              -0.036824   \n",
       "5               -0.026436              -0.015820              -0.003134   \n",
       "6               -0.026436              -0.004912              -0.005914   \n",
       "7               -0.026436              -0.024216              -0.009736   \n",
       "8               -0.026436              -0.024432              -0.021055   \n",
       "9               -0.026436              -0.019003              -0.018042   \n",
       "10                    NaN                    NaN                    NaN   \n",
       "11                    NaN                    NaN                    NaN   \n",
       "12                    NaN                    NaN                    NaN   \n",
       "13              -0.026436              -0.034196              -0.014732   \n",
       "14              -0.026436              -0.004994              -0.001476   \n",
       "15              -0.026436              -0.003301              -0.008596   \n",
       "\n",
       "    Flow Utility N  Flow Utility P  Flow Utility F  Wage Observed  \n",
       "0        -0.026436       -0.023300       -0.005385     488.351051  \n",
       "1        -0.026436       -0.017160       -0.034532     185.984536  \n",
       "2        -0.026436       -0.078492       -0.011724     121.695346  \n",
       "3        -0.026436       -0.015760       -0.029974     216.504696  \n",
       "4        -0.026436       -0.027637       -0.027280      26.937182  \n",
       "5        -0.026436       -0.014315       -0.002321    2194.083748  \n",
       "6        -0.026436       -0.004444       -0.004381     705.724055  \n",
       "7        -0.026436       -0.021912       -0.007213     289.771213  \n",
       "8        -0.026436       -0.022107       -0.015598      73.096367  \n",
       "9        -0.026436       -0.017195       -0.013366      96.303787  \n",
       "10             NaN             NaN             NaN            NaN  \n",
       "11             NaN             NaN             NaN            NaN  \n",
       "12             NaN             NaN             NaN            NaN  \n",
       "13       -0.026436       -0.030942       -0.010914     138.307487  \n",
       "14       -0.026436       -0.004519       -0.001093    8416.059402  \n",
       "15       -0.026436       -0.002987       -0.006368    4219.953322  "
      ]
     },
     "execution_count": 20,
     "metadata": {},
     "output_type": "execute_result"
    }
   ],
   "source": [
    "import matplotlib.pyplot as plt\n",
    "import pandas as pd\n",
    "import numpy as np\n",
    "\n",
    "data_frame_baseline = pd.read_csv('toy_model_sim_benchmark1.csv', sep = '\\t')\n",
    "\n",
    "# Drop\n",
    "# data_frame_baseline = data_frame_baseline.drop(['Unnamed'], axis = 1)\n",
    "\n",
    "# Set period wage for non-employment equal to the benefits value set in the model spcification\n",
    "\n",
    "#data_frame_baseline['Period Wage N'] = np.where(data_frame_baseline['Period Wage N'].isnull(), np.nan, 1850)\n",
    "\n",
    "#Determine the observed wage given period choice\n",
    "def get_observed_wage (row):\n",
    "    if row['Choice'] == 2:\n",
    "        return row['Period Wage F']\n",
    "    elif row['Choice'] ==1:\n",
    "        return row['Period Wage P']\n",
    "    elif row['Choice'] ==0:\n",
    "        return row['Period Wage N']\n",
    "    else:\n",
    "        return np.nan\n",
    "\n",
    "# Add to data frame\n",
    "data_frame_baseline['Wage Observed'] = data_frame_baseline.apply (lambda row: get_observed_wage (row),axis=1)\n",
    "\n",
    "# Show\n",
    "data_frame_baseline.head(16)"
   ]
  },
  {
   "cell_type": "code",
   "execution_count": 7,
   "metadata": {},
   "outputs": [
    {
     "data": {
      "text/plain": [
       "2.0    0.747870\n",
       "1.0    0.219048\n",
       "0.0    0.033083\n",
       "Name: Choice, dtype: float64"
      ]
     },
     "execution_count": 7,
     "metadata": {},
     "output_type": "execute_result"
    },
    {
     "data": {
      "image/png": "[encoded data removed]",
      "text/plain": [
       "<Figure size 432x288 with 1 Axes>"
      ]
     },
     "metadata": {
      "needs_background": "light"
     },
     "output_type": "display_data"
    }
   ],
   "source": [
    "# Average non-employment, part-time, and full-time rates over all periods and individuals\n",
    "data_frame_baseline['Choice'].value_counts(normalize=True).plot(kind = 'bar')\n",
    "data_frame_baseline['Choice'].value_counts(normalize=True)"
   ]
  },
  {
   "cell_type": "markdown",
   "metadata": {},
   "source": [
    "In the baseline model, the rate of non-employed over all individuals and periods is 3,3%. The part-time and full-time employment rates equal 21,9% and 74,8% respectively."
   ]
  },
  {
   "cell_type": "code",
   "execution_count": 8,
   "metadata": {
    "scrolled": true
   },
   "outputs": [
    {
     "data": {
      "text/plain": [
       "<matplotlib.axes._subplots.AxesSubplot at 0x116767a90>"
      ]
     },
     "execution_count": 8,
     "metadata": {},
     "output_type": "execute_result"
    },
    {
     "data": {
      "image/png": "[encoded data removed]",
      "text/plain": [
       "<Figure size 432x288 with 1 Axes>"
      ]
     },
     "metadata": {
      "needs_background": "light"
     },
     "output_type": "display_data"
    }
   ],
   "source": [
    "# Average non-employment, part-time, and full-time rates per period\n",
    "data_frame_baseline.groupby(['Period'])['Choice'].value_counts(normalize=True).unstack().plot(kind = 'bar', stacked = True)"
   ]
  },
  {
   "cell_type": "markdown",
   "metadata": {},
   "source": [
    "As far as the evolution of choices over all agents and periods is concerned, we first observe a declining tendency of individuals to be unemployed as desired in a perfectly calibrated simulation. Second, individuals in our Blundell benchmark simulation tend to choose full-time employment less often in the last three periods of the model. Rates of part-time employment increase for the same period. \n",
    "\n",
    "For a perfect calibration, full-time employment should stay roughly constant, while part-time employment should slightly decrease over time. Yet, it has to be noted that the described ideal evolution of agents' experiences might be difficult to achieve in the final periods of a ten period model. It is to be expected that the rates of part-time employment increase towards the end of the time modelled: since agents will only continue working for a few more periods, accumulation of experience through full-time employment becomes less attractive and, thus, choosing full-time employment becomes less frequent."
   ]
  },
  {
   "cell_type": "code",
   "execution_count": 9,
   "metadata": {},
   "outputs": [
    {
     "data": {
      "text/plain": [
       "<matplotlib.axes._subplots.AxesSubplot at 0x1168a3ba8>"
      ]
     },
     "execution_count": 9,
     "metadata": {},
     "output_type": "execute_result"
    },
    {
     "data": {
      "image/png": "[encoded data removed]",
      "text/plain": [
       "<Figure size 432x288 with 1 Axes>"
      ]
     },
     "metadata": {
      "needs_background": "light"
     },
     "output_type": "display_data"
    }
   ],
   "source": [
    "# Average non-employment, part-time, and full-time rates for individuals with different level of education\n",
    "data_frame_baseline.groupby(['Years of Education'])['Choice'].value_counts(normalize=True).unstack().plot(kind = 'bar', stacked = True)"
   ]
  },
  {
   "cell_type": "markdown",
   "metadata": {},
   "source": [
    "As should be expected, the higher the education level of the individuals the lower the observed.\n",
    "\n",
    "We note a higher level of part-time employment than desired in an ideal callibration among individuals with high level of education (13 qnd 14 years)."
   ]
  },
  {
   "cell_type": "code",
   "execution_count": 10,
   "metadata": {},
   "outputs": [
    {
     "data": {
      "text/plain": [
       "<matplotlib.legend.Legend at 0x11698e828>"
      ]
     },
     "execution_count": 10,
     "metadata": {},
     "output_type": "execute_result"
    },
    {
     "data": {
      "image/png": "[encoded data removed]",
      "text/plain": [
       "<Figure size 432x288 with 1 Axes>"
      ]
     },
     "metadata": {
      "needs_background": "light"
     },
     "output_type": "display_data"
    }
   ],
   "source": [
    "# Average wage for each period and choice\n",
    "fig,ax = plt.subplots()\n",
    "\n",
    "# Generate x axes values\n",
    "period = [1,2,3,4,5,6,7,8,9,10]\n",
    "\n",
    "# Generate plot lines\n",
    "ax.plot(period,\n",
    "        data_frame_baseline[data_frame_baseline['Choice'] == 2].groupby(['Period'])['Period Wage F'].mean(),\n",
    "        color='green', label = 'F')\n",
    "ax.plot(period,\n",
    "        data_frame_baseline[data_frame_baseline['Choice'] == 1].groupby(['Period'])['Period Wage P'].mean(),\n",
    "        color='orange', label = 'P')\n",
    "ax.plot(period,\n",
    "        data_frame_baseline[data_frame_baseline['Choice'] == 0].groupby(['Period'])['Period Wage N'].mean(), \n",
    "        color='blue', label = 'N')\n",
    "\n",
    "# Plot settings\n",
    "ax.set_xlabel(\"period\")\n",
    "ax.set_ylabel(\"wage\")\n",
    "ax.legend(loc='best')\n"
   ]
  },
  {
   "cell_type": "markdown",
   "metadata": {},
   "source": [
    "The period wage of non-employment actually refers to the unemployment benefits individuals receive. The amount of the benefits is constant over time. Part-time and full-time wages rise as individuals gather more experience. However, in an idally calibrated simulation, part-time wages would need to grow more slowly compared to the Blundell benchmark model. "
   ]
  },
  {
   "cell_type": "code",
   "execution_count": 11,
   "metadata": {},
   "outputs": [
    {
     "data": {
      "text/plain": [
       "<matplotlib.legend.Legend at 0x116aec898>"
      ]
     },
     "execution_count": 11,
     "metadata": {},
     "output_type": "execute_result"
    },
    {
     "data": {
      "image/png": "[encoded data removed]",
      "text/plain": [
       "<Figure size 432x288 with 1 Axes>"
      ]
     },
     "metadata": {
      "needs_background": "light"
     },
     "output_type": "display_data"
    }
   ],
   "source": [
    "# Average flow utility for each period and choice\n",
    "\n",
    "fig,ax = plt.subplots()\n",
    "\n",
    "# Generate x axis values\n",
    "period = [1,2,3,4,5,6,7,8,9,10]\n",
    "\n",
    "# Generate lines\n",
    "ax.plot(period,\n",
    "        data_frame_baseline[data_frame_baseline['Choice'] == 2].groupby(['Period'])['Flow Utility F'].mean(),\n",
    "        color='green', label = 'F')\n",
    "ax.plot(period,\n",
    "        data_frame_baseline[data_frame_baseline['Choice'] == 1].groupby(['Period'])['Flow Utility P'].mean(),\n",
    "        color='orange', label = 'P')\n",
    "ax.plot(period,\n",
    "        data_frame_baseline[data_frame_baseline['Choice'] == 0].groupby(['Period'])['Flow Utility N'].mean(), \n",
    "        color='blue', label = 'N')\n",
    "\n",
    "# Plot settings\n",
    "ax.set_xlabel(\"period\")\n",
    "ax.set_ylabel(\"wage\")\n",
    "ax.legend(loc='best')"
   ]
  },
  {
   "cell_type": "markdown",
   "metadata": {},
   "source": [
    "As expected, average flow utility of full-time employment is higher than the average flow utility of part-time employment. The flow utility of nonemployment is constant and lowest."
   ]
  },
  {
   "cell_type": "code",
   "execution_count": 12,
   "metadata": {},
   "outputs": [
    {
     "data": {
      "text/plain": [
       "<matplotlib.axes._subplots.AxesSubplot at 0x116b1ca20>"
      ]
     },
     "execution_count": 12,
     "metadata": {},
     "output_type": "execute_result"
    },
    {
     "data": {
      "image/png": "[encoded data removed]",
      "text/plain": [
       "<Figure size 432x288 with 1 Axes>"
      ]
     },
     "metadata": {
      "needs_background": "light"
     },
     "output_type": "display_data"
    }
   ],
   "source": [
    "# Average observed wage per period\n",
    "data_frame_baseline.groupby(['Period'])['Wage Observed'].mean().plot()"
   ]
  },
  {
   "cell_type": "markdown",
   "metadata": {},
   "source": [
    "### Comparative statics"
   ]
  },
  {
   "cell_type": "markdown",
   "metadata": {},
   "source": [
    "Finally, show a small example of coparative statics. In the alternative specifications the return to experience coefficient gamma_1 for the individuals with medium level of educations is increased from 0.229 to 0.280. As a result, experience accumulation matters more in the utility maximization. Therefore, individuals with medium level of education choose to be employed more often. Consequently, also aggregate levels of nonemployment are lower in the model."
   ]
  },
  {
   "cell_type": "code",
   "execution_count": 13,
   "metadata": {},
   "outputs": [],
   "source": [
    "data_frame_alternative = pd.read_csv('toy_model_sim_test_alternative.csv', sep = '\\t')"
   ]
  },
  {
   "cell_type": "code",
   "execution_count": 15,
   "metadata": {},
   "outputs": [
    {
     "data": {
      "text/plain": [
       "<matplotlib.axes._subplots.AxesSubplot at 0x116beb0b8>"
      ]
     },
     "execution_count": 15,
     "metadata": {},
     "output_type": "execute_result"
    },
    {
     "data": {
      "image/png": "[encoded data removed]",
      "text/plain": [
       "<Figure size 432x288 with 1 Axes>"
      ]
     },
     "metadata": {
      "needs_background": "light"
     },
     "output_type": "display_data"
    }
   ],
   "source": [
    "# Average non-employment, part-time, and full-time rates for individuals with different level of education\n",
    "data_frame_alternative.groupby(['Years of Education'])['Choice'].value_counts(normalize=True).unstack().plot(kind = 'bar', stacked = True)"
   ]
  },
  {
   "cell_type": "code",
   "execution_count": 16,
   "metadata": {},
   "outputs": [
    {
     "data": {
      "text/plain": [
       "2.0    0.753994\n",
       "1.0    0.220669\n",
       "0.0    0.025337\n",
       "Name: Choice, dtype: float64"
      ]
     },
     "execution_count": 16,
     "metadata": {},
     "output_type": "execute_result"
    },
    {
     "data": {
      "image/png": "[encoded data removed]",
      "text/plain": [
       "<Figure size 432x288 with 1 Axes>"
      ]
     },
     "metadata": {
      "needs_background": "light"
     },
     "output_type": "display_data"
    }
   ],
   "source": [
    "# Average non-employment, part-time, and full-time rates over all periods and individuals\n",
    "data_frame_alternative['Choice'].value_counts(normalize=True).plot(kind = 'bar')\n",
    "data_frame_alternative['Choice'].value_counts(normalize=True)"
   ]
  },
  {
   "cell_type": "markdown",
   "metadata": {},
   "source": [
    "## Estimation with soepy "
   ]
  },
  {
   "cell_type": "markdown",
   "metadata": {},
   "source": [
    "SMM estimation procedure using [Py-BOBYQA](https://github.com/numericalalgorithmsgroup/pybobyqa).:\n",
    "* objective function taking the parameter vector to be estimated as an argument\n",
    "* calculate moments in observed (true simulated) sample\n",
    "\n",
    "Do:\n",
    "* simulate a data set based on parameter values in current optimizer iteration\n",
    "* calculate moments in the resulting simulated sample\n",
    "* calculate value of the objective function: weighted square loss function\n",
    "* repeat until tolerance level is reached"
   ]
  },
  {
   "cell_type": "markdown",
   "metadata": {},
   "source": [
    "```python\n",
    "def get_objective (optim_paras):\n",
    "\n",
    "    data_frame_observed = pd.read_csv('toy_model_sim_benchmark.csv', sep = '\\t')\n",
    "    moments_obs = get_moments_extended(data_frame_observed)\n",
    "\n",
    "    weighting_matrix = get_weighting_matrix(data_frame_observed, num_agents_smm = 1000, num_samples = 100)\n",
    "\n",
    "    # Generate simulated dataset\n",
    "    data_frame = simulate_smm(optim_paras)\n",
    "    \n",
    "    # Calculate simulated moments\n",
    "    #moments_sim = get_moments(data_frame)\n",
    "    moments_sim = get_moments_extended(data_frame)\n",
    "\n",
    "    moments_sim_list = moments_dict_to_list_extended(moments_sim)\n",
    "    print (moments_sim_list)\n",
    "    \n",
    "    # Obtain criterion function value\n",
    "    func = calculate_criterion_func_value(moments_sim, moments_obs, weighting_matrix)\n",
    "\n",
    "    return func\n",
    "```"
   ]
  },
  {
   "cell_type": "markdown",
   "metadata": {},
   "source": [
    "Additional moments:\n",
    "* wage distribution by period and education level\n",
    "* wage distribution by years of total in labor market experience\n",
    "* wage distribution by years of full time experience\n",
    "* choice probability by above conditions\n",
    "\n",
    "Note: possibly need to add higher order moments"
   ]
  },
  {
   "cell_type": "markdown",
   "metadata": {},
   "source": [
    "```python\n",
    "logging.basicConfig(level=logging.INFO, format='%(message)s')\n",
    "\n",
    "soln = pybobyqa.solve (get_objective,\n",
    "       optim_paras_start,\n",
    "       rhobeg=0.01,\n",
    "       rhoend=1e-4,\n",
    "       npt = 19,\n",
    "       maxfun=40,\n",
    "       bounds=(lower,upper),\n",
    "       scaling_within_bounds=True\n",
    "       )\n",
    "\n",
    "print(soln)\n",
    "```"
   ]
  },
  {
   "cell_type": "markdown",
   "metadata": {},
   "source": [
    "```text\n",
    "Function eval 1 at point 1 has f = 1.99306966128103e-30 at x = [...]\n",
    "\n",
    "[...]\n",
    "\n",
    "Beginning main loop\n",
    "Function eval 20 at point 20 has f = 0.00113259967082321 at x = [...]\n",
    "New rho = 0.001 after 20 function evaluations\n",
    "Function eval 21 at point 21 has f = 0.00169692512396886 at x = [...]\n",
    "Function eval 22 at point 22 has f = 6.90425240693039e-06 at x = [...]\n",
    "Function eval 23 at point 23 has f = 8.37248375844819e-06 at x = [...]\n",
    "Function eval 24 at point 24 has f = 1.89449484107043e-06 at x = [...]\n",
    "Function eval 25 at point 25 has f = 2.03818022913401e-05 at x = [...]\n",
    "Function eval 26 at point 26 has f = 2.69930965293257e-05 at x = [...]\n",
    "Function eval 27 at point 27 has f = 8.94893375285897e-05 at x = [...]\n",
    "Function eval 28 at point 28 has f = 3.27519358887372e-06 at x = [...]\n",
    "Function eval 29 at point 29 has f = 9.4048017614181e-06 at x = [...]\n",
    "Function eval 30 at point 30 has f = 6.42866003552361e-06 at x = [...]\n",
    "Function eval 31 at point 31 has f = 9.9354112220621e-06 at x = [...]\n",
    "Function eval 32 at point 32 has f = 4.84823695997662e-06 at x = [...]\n",
    "Function eval 33 at point 33 has f = 2.70228872502179e-05 at x = [...]\n",
    "Function eval 34 at point 34 has f = 3.78796547613078e-06 at x = [...]\n",
    "Function eval 35 at point 35 has f = 1.50684678585831e-06 at x = [...]\n",
    "New rho = 0.0001 after 35 function evaluations\n",
    "Function eval 36 at point 36 has f = 1.1030492710082e-06 at x = [...]\n",
    "Function eval 37 at point 37 has f = 2.15224262281514e-08 at x = [...]\n",
    "Function eval 38 at point 38 has f = 3.67779672709275e-07 at x = [...]\n",
    "Function eval 39 at point 39 has f = 6.07523165844384e-08 at x = [...]\n",
    "Function eval 40 at point 40 has f = 1.46176839453565e-06 at x = [...]\n",
    "Did a total of 1 run(s)\n",
    "****** Py-BOBYQA Results ******\n",
    "Solution xmin = [ 5.406  5.574  6.949  0.152  0.229  0.306  0.15   0.096  0.116  0.081\n",
    "  0.057  0.073 -0.1   -0.3    1.     1.25   1.6  ]\n",
    "Objective value f(xmin) = 1.993069661e-30\n",
    "Needed 40 objective evaluations (at 40 points)\n",
    "Approximate gradient = [ 0.02820354  0.01584908  0.05903194  0.05224201  0.58762375  0.39355667\n",
    " -0.14554667 -0.44704655 -0.22041993 -0.17372473  1.67222062 -0.50666663\n",
    "  0.95438106 -0.38193553 -0.14083374  0.00967395  0.0665431 ]\n",
    "Not showing approximate Hessian because it is too long; check self.hessian\n",
    "Exit flag = 1\n",
    "Warning (max evals): Objective has been called MAXFUN times\n",
    "******************************\n",
    "```"
   ]
  }
 ],
 "metadata": {
  "kernelspec": {
   "display_name": "Python 3",
   "language": "python",
   "name": "python3"
  },
  "language_info": {
   "codemirror_mode": {
    "name": "ipython",
    "version": 3
   },
   "file_extension": ".py",
   "mimetype": "text/x-python",
   "name": "python",
   "nbconvert_exporter": "python",
   "pygments_lexer": "ipython3",
   "version": "3.7.0"
  }
 },
 "nbformat": 4,
 "nbformat_minor": 2
}
