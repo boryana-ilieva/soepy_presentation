{
 "cells": [
  {
   "cell_type": "markdown",
   "metadata": {},
   "source": [
    "# soepy"
   ]
  },
  {
   "cell_type": "markdown",
   "metadata": {},
   "source": [
    "You can find the current version of soepy on the [GitHub Repo](https://github.com/OpenSourceEconomics/soepy) of OpenSourceEconomics."
   ]
  },
  {
   "cell_type": "markdown",
   "metadata": {},
   "source": [
    "Agenda:\n",
    "1. My current research project\n",
    "    * Reseach question and motivation\n",
    "    * Economic model\n",
    "2. Simulation with soepy\n",
    "    * Simulation functionality\n",
    "    * Introducing namedtuple\n",
    "    * Descriptives and comparative statics\n",
    "3. SMM estimation with soepy"
   ]
  },
  {
   "cell_type": "markdown",
   "metadata": {},
   "source": [
    "## Current research project"
   ]
  },
  {
   "cell_type": "markdown",
   "metadata": {},
   "source": [
    "-> see slides"
   ]
  },
  {
   "cell_type": "markdown",
   "metadata": {},
   "source": [
    "## Simulation with soepy"
   ]
  },
  {
   "cell_type": "markdown",
   "metadata": {},
   "source": [
    "### Simulation functionality"
   ]
  },
  {
   "cell_type": "markdown",
   "metadata": {},
   "source": [
    "The soepy package simulates a data set of individual choices and experiences based on an initialization file of the form presented below.\n",
    "\n",
    "The parameters of the model are specified under PARAMETERS and include:\n",
    "* returns to education\n",
    "* returns to total years of experience\n",
    "* returns to experience in part-time employment\n",
    "* depreciation of accumulated experience while out of employment\n",
    "* disutility of work\n",
    "* period wage/productivity shocks\n",
    "\n",
    "These are potential free parameters of the model, we would ultimately wish to estimate using soepy."
   ]
  },
  {
   "cell_type": "markdown",
   "metadata": {},
   "source": [
    "Parameter values in this baseline specification are set according to estimates in Blundell (2016)."
   ]
  },
  {
   "cell_type": "markdown",
   "metadata": {},
   "source": [
    "```yaml\n",
    "---\n",
    "GENERAL:\n",
    "    num_periods: 10\n",
    "    num_choices: 3\n",
    "CONSTANTS:\n",
    "    delta: 0.98\n",
    "    mu: -0.56\n",
    "    benefits: 1850.00\n",
    "INITIAL_CONDITIONS:\n",
    "    educ_max: 14\n",
    "    educ_min: 10\n",
    "SIMULATION:\n",
    "    seed_sim: 102\n",
    "    num_agents_sim: 1000\n",
    "SOLUTION:\n",
    "    seed_emax: 635\n",
    "    num_draws_emax: 500\n",
    "PARAMETERS:\n",
    "    gamma_0s1: 5.406\n",
    "    gamma_0s2: 5.574\n",
    "    gamma_0s3: 6.949\n",
    "    gamma_1s1: 0.152\n",
    "    gamma_1s2: 0.229\n",
    "    gamma_1s3: 0.306\n",
    "    g_s1: 0.150\n",
    "    g_s2: 0.096\n",
    "    g_s3: 0.116\n",
    "    delta_s1: 0.081\n",
    "    delta_s2: 0.057\n",
    "    delta_s3: 0.073\n",
    "    theta_p: -0.10\n",
    "    theta_f: -0.30\n",
    "    sigma_0: 1.00\n",
    "    sigma_1: 1.25\n",
    "    sigma_2: 1.60\n",
    "```"
   ]
  },
  {
   "cell_type": "markdown",
   "metadata": {},
   "source": [
    "soepy is not a Class object. The simulation procedure comprises the consecutive execution of three main functions.\n",
    "\n",
    "```python\n",
    "def simulate(init_file_name):\n",
    "    \"\"\"Create a data frame of individuals' simulated experiences.\"\"\"\n",
    "    # Read in model specification from yaml file\n",
    "    model_params = read_init_file(init_file_name)\n",
    "\n",
    "    # Obtain model solution\n",
    "    state_space_args, periods_emax = pyth_solve(model_params)\n",
    "\n",
    "    # Simulate agents experiences according to parameters in the model specification\n",
    "    dataset = pyth_simulate(model_params, state_space_args, periods_emax)\n",
    "    \n",
    "    [...]\n",
    "    \n",
    "    return dataset\n",
    "```\n",
    "\n",
    "1. Obtain state space grid and derived arguments\n",
    "2. Obtain the value function maximum values for all admissible states and periods in a backward induction procedure.\n",
    "3. Simulate choices and related information for a specified number of agents and periods given solution\n",
    "\n",
    "```python\n",
    "def pyth_solve(attr_dict):\n",
    "    \"\"\"Solve the model by backward induction.\"\"\"\n",
    "\n",
    "    # Create all necessary grids and objects related to the state space\n",
    "    state_space_args = pyth_create_state_space(model_params)\n",
    "\n",
    "    # Solve the model in a backward induction procedure\n",
    "    # Error term for continuation values is integrated out\n",
    "    # numerically in a Monte Carlo procedure\n",
    "    periods_emax = pyth_backward_induction(model_params, state_space_args)\n",
    "\n",
    "    # Return function output\n",
    "    return state_space_args, periods_emax\n",
    "```\n",
    "\n",
    "Note:\n",
    "* backward indiction is the bottleneck as far as performance is concerned\n",
    "* state space arguments are analogous to \"old\" respy structure\n",
    "* in contrast to respy additional covariates derived based on state space atributes are created only once outside the backward induction loop"
   ]
  },
  {
   "cell_type": "markdown",
   "metadata": {},
   "source": [
    "### Introducing namedtuple"
   ]
  },
  {
   "cell_type": "markdown",
   "metadata": {},
   "source": [
    "In soepy, the model parameters specified at initialization are passed to the following functions using [namedtuple](https://pymotw.com/2/collections/namedtuple.html).\n",
    "\n",
    "The standard tuple uses numerical indexes to access its members. A namedtuple assigns names, as well as the numerical index, to each member."
   ]
  },
  {
   "cell_type": "code",
   "execution_count": 1,
   "metadata": {},
   "outputs": [
    {
     "data": {
      "text/plain": [
       "Person(name='Bob', age=30, gender='male')"
      ]
     },
     "execution_count": 1,
     "metadata": {},
     "output_type": "execute_result"
    }
   ],
   "source": [
    "import collections\n",
    "\n",
    "Person = collections.namedtuple('Person', 'name age gender')\n",
    "\n",
    "bob = Person(name='Bob', age=30, gender='male')\n",
    "bob"
   ]
  },
  {
   "cell_type": "code",
   "execution_count": 2,
   "metadata": {},
   "outputs": [
    {
     "data": {
      "text/plain": [
       "'Jane'"
      ]
     },
     "execution_count": 2,
     "metadata": {},
     "output_type": "execute_result"
    }
   ],
   "source": [
    "jane = Person(name='Jane', age=29, gender='female')\n",
    "jane.name"
   ]
  },
  {
   "cell_type": "code",
   "execution_count": 3,
   "metadata": {},
   "outputs": [
    {
     "name": "stdout",
     "output_type": "stream",
     "text": [
      "Bob is a 30 year old male\n",
      "Jane is a 29 year old female\n"
     ]
    }
   ],
   "source": [
    "for p in [ bob, jane ]:\n",
    "    print ('%s is a %d year old %s' % p)"
   ]
  },
  {
   "cell_type": "markdown",
   "metadata": {},
   "source": [
    "Usage in soepy:\n",
    "\n",
    "Create namedtuple model parameters containing the specifications made in the initialization yaml file:"
   ]
  },
  {
   "cell_type": "markdown",
   "metadata": {},
   "source": [
    "```python\n",
    "def create_namedtuple(init_dict):\n",
    "\n",
    "    \"\"\"Transfers model specification from a dictionary\n",
    "    to a named tuple class object.\"\"\"\n",
    "\n",
    "    model_params = cl.namedtuple(\"model_parameters\", \"\")\n",
    "    model_params.num_periods = init_dict[\"GENERAL\"][\"num_periods\"]\n",
    "    model_params.num_choices = init_dict[\"GENERAL\"][\"num_choices\"]\n",
    "    \n",
    "    [...]\n",
    "    \n",
    "    return model_params\n",
    "```"
   ]
  },
  {
   "cell_type": "markdown",
   "metadata": {},
   "source": [
    "Pass the named tuple to all nested functions and call parameter using namedtuple.nameindex:"
   ]
  },
  {
   "cell_type": "markdown",
   "metadata": {},
   "source": [
    "```python\n",
    "def create_state_space(model_params):\n",
    "    \"\"\"Create state space related objects\n",
    "    given state space components in model specification.\n",
    "    \"\"\"\n",
    "    [...]\n",
    "     # Loop over all periods / all ages\n",
    "        for period in range(model_params.num_periods):\n",
    "\n",
    "            # Start count for admissible state space points\n",
    "            k = 0\n",
    "\n",
    "            # Loop over all possible initial conditions for education\n",
    "            for educ_years in range(model_params.educ_range):\n",
    "\n",
    "                # Check if individual has already completed education\n",
    "                # and will make a labor supply choice in the period\n",
    "                if educ_years > period:\n",
    "                    continue\n",
    "    [...]\n",
    "    return state_space_args\n",
    "```"
   ]
  },
  {
   "cell_type": "markdown",
   "metadata": {},
   "source": [
    "### Descriptives and comparative statics"
   ]
  },
  {
   "cell_type": "code",
   "execution_count": 4,
   "metadata": {},
   "outputs": [
    {
     "data": {
      "text/html": [
       "<div>\n",
       "<style scoped>\n",
       "    .dataframe tbody tr th:only-of-type {\n",
       "        vertical-align: middle;\n",
       "    }\n",
       "\n",
       "    .dataframe tbody tr th {\n",
       "        vertical-align: top;\n",
       "    }\n",
       "\n",
       "    .dataframe thead th {\n",
       "        text-align: right;\n",
       "    }\n",
       "</style>\n",
       "<table border=\"1\" class=\"dataframe\">\n",
       "  <thead>\n",
       "    <tr style=\"text-align: right;\">\n",
       "      <th></th>\n",
       "      <th>Identifier</th>\n",
       "      <th>Period</th>\n",
       "      <th>Years of Education</th>\n",
       "      <th>Choice</th>\n",
       "      <th>Systematic Wage</th>\n",
       "      <th>Period Wage N</th>\n",
       "      <th>Period Wage P</th>\n",
       "      <th>Period Wage F</th>\n",
       "      <th>Consumption Utility N</th>\n",
       "      <th>Consumption Utility P</th>\n",
       "      <th>Consumption Utility F</th>\n",
       "      <th>Flow Utility N</th>\n",
       "      <th>Flow Utility P</th>\n",
       "      <th>Flow Utility F</th>\n",
       "      <th>Wage Observed</th>\n",
       "    </tr>\n",
       "  </thead>\n",
       "  <tbody>\n",
       "    <tr>\n",
       "      <th>0</th>\n",
       "      <td>0</td>\n",
       "      <td>0</td>\n",
       "      <td>12</td>\n",
       "      <td>NaN</td>\n",
       "      <td>NaN</td>\n",
       "      <td>NaN</td>\n",
       "      <td>NaN</td>\n",
       "      <td>NaN</td>\n",
       "      <td>NaN</td>\n",
       "      <td>NaN</td>\n",
       "      <td>NaN</td>\n",
       "      <td>NaN</td>\n",
       "      <td>NaN</td>\n",
       "      <td>NaN</td>\n",
       "      <td>NaN</td>\n",
       "    </tr>\n",
       "    <tr>\n",
       "      <th>1</th>\n",
       "      <td>0</td>\n",
       "      <td>1</td>\n",
       "      <td>12</td>\n",
       "      <td>NaN</td>\n",
       "      <td>NaN</td>\n",
       "      <td>NaN</td>\n",
       "      <td>NaN</td>\n",
       "      <td>NaN</td>\n",
       "      <td>NaN</td>\n",
       "      <td>NaN</td>\n",
       "      <td>NaN</td>\n",
       "      <td>NaN</td>\n",
       "      <td>NaN</td>\n",
       "      <td>NaN</td>\n",
       "      <td>NaN</td>\n",
       "    </tr>\n",
       "    <tr>\n",
       "      <th>2</th>\n",
       "      <td>0</td>\n",
       "      <td>2</td>\n",
       "      <td>12</td>\n",
       "      <td>2.0</td>\n",
       "      <td>60.338280</td>\n",
       "      <td>1850.0</td>\n",
       "      <td>10.668826</td>\n",
       "      <td>105.444690</td>\n",
       "      <td>-0.026436</td>\n",
       "      <td>-0.093997</td>\n",
       "      <td>-0.017149</td>\n",
       "      <td>-0.026436</td>\n",
       "      <td>-0.085052</td>\n",
       "      <td>-0.012704</td>\n",
       "      <td>105.444690</td>\n",
       "    </tr>\n",
       "    <tr>\n",
       "      <th>3</th>\n",
       "      <td>0</td>\n",
       "      <td>3</td>\n",
       "      <td>12</td>\n",
       "      <td>1.0</td>\n",
       "      <td>117.237278</td>\n",
       "      <td>1850.0</td>\n",
       "      <td>251.931488</td>\n",
       "      <td>26.493529</td>\n",
       "      <td>-0.026436</td>\n",
       "      <td>-0.016001</td>\n",
       "      <td>-0.037168</td>\n",
       "      <td>-0.026436</td>\n",
       "      <td>-0.014478</td>\n",
       "      <td>-0.027535</td>\n",
       "      <td>251.931488</td>\n",
       "    </tr>\n",
       "    <tr>\n",
       "      <th>4</th>\n",
       "      <td>0</td>\n",
       "      <td>4</td>\n",
       "      <td>12</td>\n",
       "      <td>2.0</td>\n",
       "      <td>122.699581</td>\n",
       "      <td>1850.0</td>\n",
       "      <td>92.429915</td>\n",
       "      <td>31.352986</td>\n",
       "      <td>-0.026436</td>\n",
       "      <td>-0.028055</td>\n",
       "      <td>-0.033823</td>\n",
       "      <td>-0.026436</td>\n",
       "      <td>-0.025385</td>\n",
       "      <td>-0.025057</td>\n",
       "      <td>31.352986</td>\n",
       "    </tr>\n",
       "    <tr>\n",
       "      <th>5</th>\n",
       "      <td>0</td>\n",
       "      <td>5</td>\n",
       "      <td>12</td>\n",
       "      <td>2.0</td>\n",
       "      <td>179.598579</td>\n",
       "      <td>1850.0</td>\n",
       "      <td>338.186402</td>\n",
       "      <td>2886.161473</td>\n",
       "      <td>-0.026436</td>\n",
       "      <td>-0.013569</td>\n",
       "      <td>-0.002688</td>\n",
       "      <td>-0.026436</td>\n",
       "      <td>-0.012277</td>\n",
       "      <td>-0.001991</td>\n",
       "      <td>2886.161473</td>\n",
       "    </tr>\n",
       "    <tr>\n",
       "      <th>6</th>\n",
       "      <td>0</td>\n",
       "      <td>6</td>\n",
       "      <td>12</td>\n",
       "      <td>2.0</td>\n",
       "      <td>236.497577</td>\n",
       "      <td>1850.0</td>\n",
       "      <td>2928.229835</td>\n",
       "      <td>995.560678</td>\n",
       "      <td>-0.026436</td>\n",
       "      <td>-0.004051</td>\n",
       "      <td>-0.004878</td>\n",
       "      <td>-0.026436</td>\n",
       "      <td>-0.003665</td>\n",
       "      <td>-0.003613</td>\n",
       "      <td>995.560678</td>\n",
       "    </tr>\n",
       "    <tr>\n",
       "      <th>7</th>\n",
       "      <td>0</td>\n",
       "      <td>7</td>\n",
       "      <td>12</td>\n",
       "      <td>2.0</td>\n",
       "      <td>293.396575</td>\n",
       "      <td>1850.0</td>\n",
       "      <td>177.437375</td>\n",
       "      <td>427.740954</td>\n",
       "      <td>-0.026436</td>\n",
       "      <td>-0.019471</td>\n",
       "      <td>-0.007828</td>\n",
       "      <td>-0.026436</td>\n",
       "      <td>-0.017618</td>\n",
       "      <td>-0.005799</td>\n",
       "      <td>427.740954</td>\n",
       "    </tr>\n",
       "    <tr>\n",
       "      <th>8</th>\n",
       "      <td>0</td>\n",
       "      <td>8</td>\n",
       "      <td>12</td>\n",
       "      <td>2.0</td>\n",
       "      <td>350.295573</td>\n",
       "      <td>1850.0</td>\n",
       "      <td>180.296965</td>\n",
       "      <td>111.388486</td>\n",
       "      <td>-0.026436</td>\n",
       "      <td>-0.019298</td>\n",
       "      <td>-0.016630</td>\n",
       "      <td>-0.026436</td>\n",
       "      <td>-0.017461</td>\n",
       "      <td>-0.012320</td>\n",
       "      <td>111.388486</td>\n",
       "    </tr>\n",
       "    <tr>\n",
       "      <th>9</th>\n",
       "      <td>0</td>\n",
       "      <td>9</td>\n",
       "      <td>12</td>\n",
       "      <td>2.0</td>\n",
       "      <td>407.194571</td>\n",
       "      <td>1850.0</td>\n",
       "      <td>289.137405</td>\n",
       "      <td>150.253516</td>\n",
       "      <td>-0.026436</td>\n",
       "      <td>-0.014813</td>\n",
       "      <td>-0.014064</td>\n",
       "      <td>-0.026436</td>\n",
       "      <td>-0.013403</td>\n",
       "      <td>-0.010419</td>\n",
       "      <td>150.253516</td>\n",
       "    </tr>\n",
       "    <tr>\n",
       "      <th>10</th>\n",
       "      <td>1</td>\n",
       "      <td>0</td>\n",
       "      <td>14</td>\n",
       "      <td>NaN</td>\n",
       "      <td>NaN</td>\n",
       "      <td>NaN</td>\n",
       "      <td>NaN</td>\n",
       "      <td>NaN</td>\n",
       "      <td>NaN</td>\n",
       "      <td>NaN</td>\n",
       "      <td>NaN</td>\n",
       "      <td>NaN</td>\n",
       "      <td>NaN</td>\n",
       "      <td>NaN</td>\n",
       "      <td>NaN</td>\n",
       "    </tr>\n",
       "    <tr>\n",
       "      <th>11</th>\n",
       "      <td>1</td>\n",
       "      <td>1</td>\n",
       "      <td>14</td>\n",
       "      <td>NaN</td>\n",
       "      <td>NaN</td>\n",
       "      <td>NaN</td>\n",
       "      <td>NaN</td>\n",
       "      <td>NaN</td>\n",
       "      <td>NaN</td>\n",
       "      <td>NaN</td>\n",
       "      <td>NaN</td>\n",
       "      <td>NaN</td>\n",
       "      <td>NaN</td>\n",
       "      <td>NaN</td>\n",
       "      <td>NaN</td>\n",
       "    </tr>\n",
       "    <tr>\n",
       "      <th>12</th>\n",
       "      <td>1</td>\n",
       "      <td>2</td>\n",
       "      <td>14</td>\n",
       "      <td>NaN</td>\n",
       "      <td>NaN</td>\n",
       "      <td>NaN</td>\n",
       "      <td>NaN</td>\n",
       "      <td>NaN</td>\n",
       "      <td>NaN</td>\n",
       "      <td>NaN</td>\n",
       "      <td>NaN</td>\n",
       "      <td>NaN</td>\n",
       "      <td>NaN</td>\n",
       "      <td>NaN</td>\n",
       "      <td>NaN</td>\n",
       "    </tr>\n",
       "    <tr>\n",
       "      <th>13</th>\n",
       "      <td>1</td>\n",
       "      <td>3</td>\n",
       "      <td>14</td>\n",
       "      <td>NaN</td>\n",
       "      <td>NaN</td>\n",
       "      <td>NaN</td>\n",
       "      <td>NaN</td>\n",
       "      <td>NaN</td>\n",
       "      <td>NaN</td>\n",
       "      <td>NaN</td>\n",
       "      <td>NaN</td>\n",
       "      <td>NaN</td>\n",
       "      <td>NaN</td>\n",
       "      <td>NaN</td>\n",
       "      <td>NaN</td>\n",
       "    </tr>\n",
       "    <tr>\n",
       "      <th>14</th>\n",
       "      <td>1</td>\n",
       "      <td>4</td>\n",
       "      <td>14</td>\n",
       "      <td>2.0</td>\n",
       "      <td>318.884773</td>\n",
       "      <td>1850.0</td>\n",
       "      <td>1045.655117</td>\n",
       "      <td>4367.441309</td>\n",
       "      <td>-0.026436</td>\n",
       "      <td>-0.007211</td>\n",
       "      <td>-0.002131</td>\n",
       "      <td>-0.026436</td>\n",
       "      <td>-0.006525</td>\n",
       "      <td>-0.001579</td>\n",
       "      <td>4367.441309</td>\n",
       "    </tr>\n",
       "    <tr>\n",
       "      <th>15</th>\n",
       "      <td>1</td>\n",
       "      <td>5</td>\n",
       "      <td>14</td>\n",
       "      <td>1.0</td>\n",
       "      <td>614.490957</td>\n",
       "      <td>1850.0</td>\n",
       "      <td>2849.281728</td>\n",
       "      <td>244.358822</td>\n",
       "      <td>-0.026436</td>\n",
       "      <td>-0.004113</td>\n",
       "      <td>-0.010711</td>\n",
       "      <td>-0.026436</td>\n",
       "      <td>-0.003722</td>\n",
       "      <td>-0.007935</td>\n",
       "      <td>2849.281728</td>\n",
       "    </tr>\n",
       "  </tbody>\n",
       "</table>\n",
       "</div>"
      ],
      "text/plain": [
       "    Identifier  Period  Years of Education  Choice  Systematic Wage  \\\n",
       "0            0       0                  12     NaN              NaN   \n",
       "1            0       1                  12     NaN              NaN   \n",
       "2            0       2                  12     2.0        60.338280   \n",
       "3            0       3                  12     1.0       117.237278   \n",
       "4            0       4                  12     2.0       122.699581   \n",
       "5            0       5                  12     2.0       179.598579   \n",
       "6            0       6                  12     2.0       236.497577   \n",
       "7            0       7                  12     2.0       293.396575   \n",
       "8            0       8                  12     2.0       350.295573   \n",
       "9            0       9                  12     2.0       407.194571   \n",
       "10           1       0                  14     NaN              NaN   \n",
       "11           1       1                  14     NaN              NaN   \n",
       "12           1       2                  14     NaN              NaN   \n",
       "13           1       3                  14     NaN              NaN   \n",
       "14           1       4                  14     2.0       318.884773   \n",
       "15           1       5                  14     1.0       614.490957   \n",
       "\n",
       "    Period Wage N  Period Wage P  Period Wage F  Consumption Utility N  \\\n",
       "0             NaN            NaN            NaN                    NaN   \n",
       "1             NaN            NaN            NaN                    NaN   \n",
       "2          1850.0      10.668826     105.444690              -0.026436   \n",
       "3          1850.0     251.931488      26.493529              -0.026436   \n",
       "4          1850.0      92.429915      31.352986              -0.026436   \n",
       "5          1850.0     338.186402    2886.161473              -0.026436   \n",
       "6          1850.0    2928.229835     995.560678              -0.026436   \n",
       "7          1850.0     177.437375     427.740954              -0.026436   \n",
       "8          1850.0     180.296965     111.388486              -0.026436   \n",
       "9          1850.0     289.137405     150.253516              -0.026436   \n",
       "10            NaN            NaN            NaN                    NaN   \n",
       "11            NaN            NaN            NaN                    NaN   \n",
       "12            NaN            NaN            NaN                    NaN   \n",
       "13            NaN            NaN            NaN                    NaN   \n",
       "14         1850.0    1045.655117    4367.441309              -0.026436   \n",
       "15         1850.0    2849.281728     244.358822              -0.026436   \n",
       "\n",
       "    Consumption Utility P  Consumption Utility F  Flow Utility N  \\\n",
       "0                     NaN                    NaN             NaN   \n",
       "1                     NaN                    NaN             NaN   \n",
       "2               -0.093997              -0.017149       -0.026436   \n",
       "3               -0.016001              -0.037168       -0.026436   \n",
       "4               -0.028055              -0.033823       -0.026436   \n",
       "5               -0.013569              -0.002688       -0.026436   \n",
       "6               -0.004051              -0.004878       -0.026436   \n",
       "7               -0.019471              -0.007828       -0.026436   \n",
       "8               -0.019298              -0.016630       -0.026436   \n",
       "9               -0.014813              -0.014064       -0.026436   \n",
       "10                    NaN                    NaN             NaN   \n",
       "11                    NaN                    NaN             NaN   \n",
       "12                    NaN                    NaN             NaN   \n",
       "13                    NaN                    NaN             NaN   \n",
       "14              -0.007211              -0.002131       -0.026436   \n",
       "15              -0.004113              -0.010711       -0.026436   \n",
       "\n",
       "    Flow Utility P  Flow Utility F  Wage Observed  \n",
       "0              NaN             NaN            NaN  \n",
       "1              NaN             NaN            NaN  \n",
       "2        -0.085052       -0.012704     105.444690  \n",
       "3        -0.014478       -0.027535     251.931488  \n",
       "4        -0.025385       -0.025057      31.352986  \n",
       "5        -0.012277       -0.001991    2886.161473  \n",
       "6        -0.003665       -0.003613     995.560678  \n",
       "7        -0.017618       -0.005799     427.740954  \n",
       "8        -0.017461       -0.012320     111.388486  \n",
       "9        -0.013403       -0.010419     150.253516  \n",
       "10             NaN             NaN            NaN  \n",
       "11             NaN             NaN            NaN  \n",
       "12             NaN             NaN            NaN  \n",
       "13             NaN             NaN            NaN  \n",
       "14       -0.006525       -0.001579    4367.441309  \n",
       "15       -0.003722       -0.007935    2849.281728  "
      ]
     },
     "execution_count": 4,
     "metadata": {},
     "output_type": "execute_result"
    }
   ],
   "source": [
    "import matplotlib.pyplot as plt\n",
    "import pandas as pd\n",
    "\n",
    "data_frame_baseline = pd.read_csv('toy_model_sim_benchmark.csv', sep = '\\t')\n",
    "\n",
    "# Drop duplicate identifier\n",
    "data_frame_baseline = data_frame_baseline.drop(['Identifier.1', 'Period.1'], axis = 1)\n",
    "\n",
    "# Set period wage for non-employment equal to the benefits value set in the model spcification\n",
    "import numpy as np\n",
    "data_frame_baseline['Period Wage N'] = np.where(data_frame_baseline['Period Wage N'].isnull(), np.nan, 1850)\n",
    "\n",
    "#Determine the observed wage given period choice\n",
    "def get_observed_wage (row):\n",
    "    if row['Choice'] == 2:\n",
    "        return row['Period Wage F']\n",
    "    elif row['Choice'] ==1:\n",
    "        return row['Period Wage P']\n",
    "    elif row['Choice'] ==0:\n",
    "        return row['Period Wage N']\n",
    "    else:\n",
    "        return np.nan\n",
    "\n",
    "# Add to data frame\n",
    "data_frame_baseline['Wage Observed'] = data_frame_baseline.apply (lambda row: get_observed_wage (row),axis=1)\n",
    "\n",
    "# Show\n",
    "data_frame_baseline.head(16)"
   ]
  },
  {
   "cell_type": "code",
   "execution_count": 5,
   "metadata": {},
   "outputs": [
    {
     "data": {
      "text/plain": [
       "2.0    0.751747\n",
       "1.0    0.219171\n",
       "0.0    0.029081\n",
       "Name: Choice, dtype: float64"
      ]
     },
     "execution_count": 5,
     "metadata": {},
     "output_type": "execute_result"
    },
    {
     "data": {
      "image/png": "[encoded data removed]",
      "text/plain": [
       "<Figure size 432x288 with 1 Axes>"
      ]
     },
     "metadata": {
      "needs_background": "light"
     },
     "output_type": "display_data"
    }
   ],
   "source": [
    "# Average non-employment, part-time, and full-time rates over all periods and individuals\n",
    "data_frame_baseline['Choice'].value_counts(normalize=True).plot(kind = 'bar')\n",
    "data_frame_baseline['Choice'].value_counts(normalize=True)"
   ]
  },
  {
   "cell_type": "markdown",
   "metadata": {},
   "source": [
    "In the baseline model, the rate of non-employed over all individuals and periods is 2,9%. The part-time and full-time employment rates equal 21,9% and 75,2% respectively."
   ]
  },
  {
   "cell_type": "code",
   "execution_count": 6,
   "metadata": {
    "scrolled": true
   },
   "outputs": [
    {
     "data": {
      "text/plain": [
       "<matplotlib.axes._subplots.AxesSubplot at 0x117b57198>"
      ]
     },
     "execution_count": 6,
     "metadata": {},
     "output_type": "execute_result"
    },
    {
     "data": {
      "image/png": "[encoded data removed]",
      "text/plain": [
       "<Figure size 432x288 with 1 Axes>"
      ]
     },
     "metadata": {
      "needs_background": "light"
     },
     "output_type": "display_data"
    }
   ],
   "source": [
    "# Average non-employment, part-time, and full-time rates per period\n",
    "data_frame_baseline.groupby(['Period'])['Choice'].value_counts(normalize=True).unstack().plot(kind = 'bar', stacked = True)"
   ]
  },
  {
   "cell_type": "markdown",
   "metadata": {},
   "source": [
    "As far as the evolution of choices over all agents and periods is concerned, we first observe a declining tendency of individuals to be unemployed as desired in a perfectly calibrated simulation. Second, individuals in our Blundell benchmark simulation tend to choose full-time employment less often in the last three periods of the model. Rates of part-time employment increase for the same period. \n",
    "\n",
    "For a perfect calibration, full-time employment should stay roughly constant, while part-time employment should slightly decrease over time. Yet, it has to be noted that the described ideal evolution of agents' experiences might be difficult to achieve in the final periods of a ten period model. It is to be expected that the rates of part-time employment increase towards the end of the time modelled: since agents will only continue working for a few more periods, accumulation of experience through full-time employment becomes less attractive and, thus, choosing full-time employment becomes less frequent."
   ]
  },
  {
   "cell_type": "code",
   "execution_count": 7,
   "metadata": {},
   "outputs": [
    {
     "data": {
      "text/plain": [
       "<matplotlib.axes._subplots.AxesSubplot at 0x117c7bef0>"
      ]
     },
     "execution_count": 7,
     "metadata": {},
     "output_type": "execute_result"
    },
    {
     "data": {
      "image/png": "[encoded data removed]",
      "text/plain": [
       "<Figure size 432x288 with 1 Axes>"
      ]
     },
     "metadata": {
      "needs_background": "light"
     },
     "output_type": "display_data"
    }
   ],
   "source": [
    "# Average non-employment, part-time, and full-time rates for individuals with different level of education\n",
    "data_frame_baseline.groupby(['Years of Education'])['Choice'].value_counts(normalize=True).unstack().plot(kind = 'bar', stacked = True)"
   ]
  },
  {
   "cell_type": "markdown",
   "metadata": {},
   "source": [
    "As should be expected, the higher the education level of the individuals the lower the observed.\n",
    "\n",
    "We note a higher level of part-time employment than desired in an ideal callibration among individuals with high level of education (13 qnd 14 years)."
   ]
  },
  {
   "cell_type": "code",
   "execution_count": 8,
   "metadata": {},
   "outputs": [
    {
     "data": {
      "text/plain": [
       "<matplotlib.legend.Legend at 0x117df79e8>"
      ]
     },
     "execution_count": 8,
     "metadata": {},
     "output_type": "execute_result"
    },
    {
     "data": {
      "image/png": "[encoded data removed]",
      "text/plain": [
       "<Figure size 432x288 with 1 Axes>"
      ]
     },
     "metadata": {
      "needs_background": "light"
     },
     "output_type": "display_data"
    }
   ],
   "source": [
    "# Average wage for each period and choice\n",
    "fig,ax = plt.subplots()\n",
    "\n",
    "# Generate x axes values\n",
    "period = [1,2,3,4,5,6,7,8,9,10]\n",
    "\n",
    "# Generate plot lines\n",
    "ax.plot(period,\n",
    "        data_frame_baseline[data_frame_baseline['Choice'] == 2].groupby(['Period'])['Period Wage F'].mean(),\n",
    "        color='green', label = 'F')\n",
    "ax.plot(period,\n",
    "        data_frame_baseline[data_frame_baseline['Choice'] == 1].groupby(['Period'])['Period Wage P'].mean(),\n",
    "        color='orange', label = 'P')\n",
    "ax.plot(period,\n",
    "        data_frame_baseline[data_frame_baseline['Choice'] == 0].groupby(['Period'])['Period Wage N'].mean(), \n",
    "        color='blue', label = 'N')\n",
    "\n",
    "# Plot settings\n",
    "ax.set_xlabel(\"period\")\n",
    "ax.set_ylabel(\"wage\")\n",
    "ax.legend(loc='best')\n"
   ]
  },
  {
   "cell_type": "markdown",
   "metadata": {},
   "source": [
    "The period wage of non-employment actually refers to the unemployment benefits individuals receive. The amount of the benefits is constant over time. Part-time and full-time wages rise as individuals gather more experience. However, in an idally calibrated simulation, part-time wages would need to grow more slowly compared to the Blundell benchmark model. "
   ]
  },
  {
   "cell_type": "code",
   "execution_count": 9,
   "metadata": {},
   "outputs": [
    {
     "data": {
      "text/plain": [
       "<matplotlib.legend.Legend at 0x117e90fd0>"
      ]
     },
     "execution_count": 9,
     "metadata": {},
     "output_type": "execute_result"
    },
    {
     "data": {
      "image/png": "[encoded data removed]",
      "text/plain": [
       "<Figure size 432x288 with 1 Axes>"
      ]
     },
     "metadata": {
      "needs_background": "light"
     },
     "output_type": "display_data"
    }
   ],
   "source": [
    "# Average flow utility for each period and choice\n",
    "\n",
    "fig,ax = plt.subplots()\n",
    "\n",
    "# Generate x axis values\n",
    "period = [1,2,3,4,5,6,7,8,9,10]\n",
    "\n",
    "# Generate lines\n",
    "ax.plot(period,\n",
    "        data_frame_baseline[data_frame_baseline['Choice'] == 2].groupby(['Period'])['Flow Utility F'].mean(),\n",
    "        color='green', label = 'F')\n",
    "ax.plot(period,\n",
    "        data_frame_baseline[data_frame_baseline['Choice'] == 1].groupby(['Period'])['Flow Utility P'].mean(),\n",
    "        color='orange', label = 'P')\n",
    "ax.plot(period,\n",
    "        data_frame_baseline[data_frame_baseline['Choice'] == 0].groupby(['Period'])['Flow Utility N'].mean(), \n",
    "        color='blue', label = 'N')\n",
    "\n",
    "# Plot settings\n",
    "ax.set_xlabel(\"period\")\n",
    "ax.set_ylabel(\"wage\")\n",
    "ax.legend(loc='best')"
   ]
  },
  {
   "cell_type": "markdown",
   "metadata": {},
   "source": [
    "As expected, average flow utility of full-time employment is higher than the average flow utility of part-time employment. The flow utility of nonemployment is constant and lowest."
   ]
  },
  {
   "cell_type": "code",
   "execution_count": 10,
   "metadata": {},
   "outputs": [
    {
     "data": {
      "text/plain": [
       "<matplotlib.axes._subplots.AxesSubplot at 0x117f28eb8>"
      ]
     },
     "execution_count": 10,
     "metadata": {},
     "output_type": "execute_result"
    },
    {
     "data": {
      "image/png": "[encoded data removed]",
      "text/plain": [
       "<Figure size 432x288 with 1 Axes>"
      ]
     },
     "metadata": {
      "needs_background": "light"
     },
     "output_type": "display_data"
    }
   ],
   "source": [
    "# Average observed wage per period\n",
    "data_frame_baseline.groupby(['Period'])['Wage Observed'].mean().plot()"
   ]
  },
  {
   "cell_type": "markdown",
   "metadata": {},
   "source": [
    "### Comparative statics"
   ]
  },
  {
   "cell_type": "markdown",
   "metadata": {},
   "source": [
    "Finally, show a small example of coparative statics. In the alternative specifications the return to experience coefficient gamma_1 for the individuals with medium level of educations is increased from 0.229 to 0.280. As a result, experience accumulation matters more in the utility maximization. Therefore, individuals with medium level of education choose to be employed more often. Consequently, also aggregate levels of nonemployment are lower in the model."
   ]
  },
  {
   "cell_type": "code",
   "execution_count": 11,
   "metadata": {},
   "outputs": [],
   "source": [
    "data_frame_alternative = pd.read_csv('toy_model_sim_test_alternative.csv', sep = '\\t')"
   ]
  },
  {
   "cell_type": "code",
   "execution_count": 12,
   "metadata": {},
   "outputs": [
    {
     "ename": "SyntaxError",
     "evalue": "unexpected EOF while parsing (<ipython-input-12-b30efd3ad88e>, line 3)",
     "output_type": "error",
     "traceback": [
      "\u001b[0;36m  File \u001b[0;32m\"<ipython-input-12-b30efd3ad88e>\"\u001b[0;36m, line \u001b[0;32m3\u001b[0m\n\u001b[0;31m    #data_frame_baseline.groupby(['Years of Education'])['Choice'].value_counts(normalize=True)]\u001b[0m\n\u001b[0m                                                                                                ^\u001b[0m\n\u001b[0;31mSyntaxError\u001b[0m\u001b[0;31m:\u001b[0m unexpected EOF while parsing\n"
     ]
    }
   ],
   "source": [
    "# Average non-employment, part-time, and full-time rates for individuals with different level of education\n",
    "[data_frame_alternative.groupby(['Years of Education'])['Choice'].value_counts(normalize=True),\n",
    "#data_frame_baseline.groupby(['Years of Education'])['Choice'].value_counts(normalize=True)]"
   ]
  },
  {
   "cell_type": "code",
   "execution_count": null,
   "metadata": {},
   "outputs": [],
   "source": [
    "# Average non-employment, part-time, and full-time rates for individuals with different level of education\n",
    "data_frame_alternative.groupby(['Years of Education'])['Choice'].value_counts(normalize=True).unstack().plot(kind = 'bar', stacked = True)"
   ]
  },
  {
   "cell_type": "code",
   "execution_count": null,
   "metadata": {},
   "outputs": [],
   "source": [
    "# Average non-employment, part-time, and full-time rates over all periods and individuals\n",
    "data_frame_alternative['Choice'].value_counts(normalize=True).plot(kind = 'bar')\n",
    "data_frame_alternative['Choice'].value_counts(normalize=True)"
   ]
  },
  {
   "cell_type": "markdown",
   "metadata": {},
   "source": [
    "## Estimation with soepy "
   ]
  },
  {
   "cell_type": "markdown",
   "metadata": {},
   "source": [
    "SMM estimation procedure using [Py-BOBYQA](https://github.com/numericalalgorithmsgroup/pybobyqa).:\n",
    "* objective function taking the parameter vector to be estimated as an argument\n",
    "* calculate moments in observed (true simulated) sample\n",
    "\n",
    "Do:\n",
    "* simulate a data set based on parameter values in current optimizer iteration\n",
    "* calculate moments in the resulting simulated sample\n",
    "* calculate value of the objective function: weighted square loss function\n",
    "* repeat until tolerance level is reached"
   ]
  },
  {
   "cell_type": "markdown",
   "metadata": {},
   "source": [
    "```python\n",
    "def get_objective (optim_paras):\n",
    "\n",
    "    data_frame_observed = pd.read_csv('toy_model_sim_benchmark.csv', sep = '\\t')\n",
    "    moments_obs = get_moments_extended(data_frame_observed)\n",
    "\n",
    "    weighting_matrix = get_weighting_matrix(data_frame_observed, num_agents_smm = 1000, num_samples = 100)\n",
    "\n",
    "    # Generate simulated dataset\n",
    "    data_frame = simulate_smm(optim_paras)\n",
    "    \n",
    "    # Calculate simulated moments\n",
    "    #moments_sim = get_moments(data_frame)\n",
    "    moments_sim = get_moments_extended(data_frame)\n",
    "\n",
    "    moments_sim_list = moments_dict_to_list_extended(moments_sim)\n",
    "    print (moments_sim_list)\n",
    "    \n",
    "    # Obtain criterion function value\n",
    "    func = calculate_criterion_func_value(moments_sim, moments_obs, weighting_matrix)\n",
    "\n",
    "    return func\n",
    "```"
   ]
  },
  {
   "cell_type": "markdown",
   "metadata": {},
   "source": [
    "Additional moments:\n",
    "* wage distribution by period and education level\n",
    "* wage distribution by years of total in labor market experience\n",
    "* wage distribution by years of full time experience\n",
    "* choice probability by above conditions\n",
    "\n",
    "Note: possibly need to add higher order moments"
   ]
  },
  {
   "cell_type": "markdown",
   "metadata": {},
   "source": [
    "```python\n",
    "logging.basicConfig(level=logging.INFO, format='%(message)s')\n",
    "\n",
    "soln = pybobyqa.solve (get_objective,\n",
    "       optim_paras_start,\n",
    "       rhobeg=0.01,\n",
    "       rhoend=1e-4,\n",
    "       npt = 19,\n",
    "       maxfun=40,\n",
    "       bounds=(lower,upper),\n",
    "       scaling_within_bounds=True\n",
    "       )\n",
    "\n",
    "print(soln)\n",
    "```"
   ]
  },
  {
   "cell_type": "markdown",
   "metadata": {},
   "source": [
    "```text\n",
    "Beginning main loop\n",
    "Function eval 20 at point 20 has f = 0.00151521281840363 at x = [...]\n",
    "New rho = 0.001 after 20 function evaluations\n",
    "Function eval 21 at point 21 has f = 0.000689642676034025 at x = [...]\n",
    "Function eval 22 at point 22 has f = 2.83470978244092e-05 at x = [...]\n",
    "Function eval 23 at point 23 has f = 2.13073430311131e-05 at x = [...]\n",
    "Function eval 24 at point 24 has f = 2.11550619536752e-06 at x = [...]\n",
    "Function eval 25 at point 25 has f = 0.00010729081869943 at x = [...]\n",
    "Function eval 26 at point 26 has f = 2.43339090722586e-06 at x = [...]\n",
    "Function eval 27 at point 27 has f = 1.55651142656579e-05 at x = [...]\n",
    "Function eval 28 at point 28 has f = 3.99681816837576e-06 at x = [...]\n",
    "Function eval 29 at point 29 has f = 2.59493881218268e-05 at x = [...]\n",
    "Function eval 30 at point 30 has f = 6.45356533228789e-06 at x = [...]\n",
    "Function eval 31 at point 31 has f = 1.78141667776732e-05 at x = [...]\n",
    "Function eval 32 at point 32 has f = 2.84054345318105e-05 at x = [...]\n",
    "Function eval 33 at point 33 has f = 1.97456470162214e-05 at x = [...]\n",
    "Function eval 34 at point 34 has f = 4.86860984132004e-06 at x = [...]\n",
    "Function eval 35 at point 35 has f = 3.69229054982337e-06 at x = [...]\n",
    "New rho = 0.0001 after 35 function evaluations\n",
    "Function eval 36 at point 36 has f = 3.26148309849036e-06 at x = [...]\n",
    "Function eval 37 at point 37 has f = 2.50421508985361e-08 at x = [...]\n",
    "Function eval 38 at point 38 has f = 2.02776603684782e-07 at x = [...]\n",
    "Function eval 39 at point 39 has f = 7.46016040073427e-08 at x = [...]\n",
    "Function eval 40 at point 40 has f = 7.18965917970185e-08 at x = [...]\n",
    "Did a total of 1 run(s)\n",
    "****** Py-BOBYQA Results ******\n",
    "Solution xmin = [ 5.406  5.574  6.949  0.152  0.229  0.306  0.15   0.096  0.116  0.081\n",
    "  0.057  0.073 -0.1   -0.3    1.     1.25   1.6  ]\n",
    "Objective value f(xmin) = 2.982423035e-30\n",
    "Needed 40 objective evaluations (at 40 points)\n",
    "Approximate gradient = [ 3.37858786e-03 -7.20148766e-02  2.30289011e-02 -1.53685455e+00\n",
    "  1.90157337e-01  9.68564663e-02  1.96435819e+00  2.61377639e+00\n",
    " -5.73547758e-01 -2.20707617e+00  3.78812343e+00  7.14239259e-01\n",
    "  4.82264651e+00 -6.44802798e-01 -3.76857662e-02 -2.09007495e-02\n",
    " -8.09840611e-02]\n",
    "Not showing approximate Hessian because it is too long; check self.hessian\n",
    "Exit flag = 1\n",
    "Warning (max evals): Objective has been called MAXFUN times\n",
    "******************************\n",
    "\n",
    "[Finished in 1828.9s]\n",
    "```"
   ]
  }
 ],
 "metadata": {
  "kernelspec": {
   "display_name": "Python 3",
   "language": "python",
   "name": "python3"
  },
  "language_info": {
   "codemirror_mode": {
    "name": "ipython",
    "version": 3
   },
   "file_extension": ".py",
   "mimetype": "text/x-python",
   "name": "python",
   "nbconvert_exporter": "python",
   "pygments_lexer": "ipython3",
   "version": "3.7.0"
  }
 },
 "nbformat": 4,
 "nbformat_minor": 2
}
